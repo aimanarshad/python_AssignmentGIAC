{
  "nbformat": 4,
  "nbformat_minor": 0,
  "metadata": {
    "colab": {
      "provenance": [],
      "authorship_tag": "ABX9TyPqOlkgwN65IgmJEb9QZlhT",
      "include_colab_link": true
    },
    "kernelspec": {
      "name": "python3",
      "display_name": "Python 3"
    },
    "language_info": {
      "name": "python"
    }
  },
  "cells": [
    {
      "cell_type": "markdown",
      "metadata": {
        "id": "view-in-github",
        "colab_type": "text"
      },
      "source": [
        "<a href=\"https://colab.research.google.com/github/aimanarshad/python_AssignmentGIAC/blob/main/python_assignemt.ipynb\" target=\"_parent\"><img src=\"https://colab.research.google.com/assets/colab-badge.svg\" alt=\"Open In Colab\"/></a>"
      ]
    },
    {
      "cell_type": "markdown",
      "source": [
        "## ***HOME_WORK_PROJECT***\n",
        "\n",
        "\n",
        "---\n",
        "\n",
        "\n",
        "\n"
      ],
      "metadata": {
        "id": "A9t9rtFGaGO4"
      }
    },
    {
      "cell_type": "markdown",
      "source": [
        "# **00_intro_python**"
      ],
      "metadata": {
        "id": "8bCGhmwLEexi"
      }
    },
    {
      "cell_type": "markdown",
      "source": [
        "**01_add_two_numbers**\n"
      ],
      "metadata": {
        "id": "S0ZegFO4kpfF"
      }
    },
    {
      "cell_type": "code",
      "execution_count": null,
      "metadata": {
        "colab": {
          "base_uri": "https://localhost:8080/"
        },
        "id": "-wVub82yki6T",
        "outputId": "c901b235-617b-4e60-ef62-cee66f0c4de4"
      },
      "outputs": [
        {
          "output_type": "stream",
          "name": "stdout",
          "text": [
            "This program adds two numbers.\n",
            "Enter first integer: 2\n",
            "Enter second integer: 4\n",
            "Sum of number is:6\n"
          ]
        }
      ],
      "source": [
        "def main():\n",
        "    print(\"This program adds two numbers.\")\n",
        "    first_number = int(input(\"Enter first integer: \"))\n",
        "    second_number = int(input(\"Enter second integer: \"))\n",
        "    total = first_number + second_number\n",
        "    print(f\"Sum of number is:{total}\")\n",
        "\n",
        "\n",
        "if __name__ == '__main__':\n",
        "    main()"
      ]
    },
    {
      "cell_type": "markdown",
      "source": [
        "**02_agreement_bot**"
      ],
      "metadata": {
        "id": "wkRGCWWQlWCq"
      }
    },
    {
      "cell_type": "code",
      "source": [
        "pip install rich\n"
      ],
      "metadata": {
        "colab": {
          "base_uri": "https://localhost:8080/"
        },
        "id": "X8PRW4bNmlWT",
        "outputId": "309d7c7e-4a65-4698-bb3d-f57d3f175a3c"
      },
      "execution_count": null,
      "outputs": [
        {
          "output_type": "stream",
          "name": "stdout",
          "text": [
            "Requirement already satisfied: rich in /usr/local/lib/python3.11/dist-packages (13.9.4)\n",
            "Requirement already satisfied: markdown-it-py>=2.2.0 in /usr/local/lib/python3.11/dist-packages (from rich) (3.0.0)\n",
            "Requirement already satisfied: pygments<3.0.0,>=2.13.0 in /usr/local/lib/python3.11/dist-packages (from rich) (2.18.0)\n",
            "Requirement already satisfied: mdurl~=0.1 in /usr/local/lib/python3.11/dist-packages (from markdown-it-py>=2.2.0->rich) (0.1.2)\n"
          ]
        }
      ]
    },
    {
      "cell_type": "code",
      "source": [
        "from rich import print\n",
        "\n",
        "\n",
        "def main():\n",
        "    animal_name=input(\"What is your favorite animal\")\n",
        "    print(f\"[bold]My favorite animal is also : {animal_name}[/bold]\")\n",
        "if __name__ == '__main__':\n",
        "    main()"
      ],
      "metadata": {
        "colab": {
          "base_uri": "https://localhost:8080/",
          "height": 51
        },
        "id": "b78_-RHxlZ6a",
        "outputId": "7648c3d3-4a5e-4c5a-8cb8-82cdf57cbf38"
      },
      "execution_count": null,
      "outputs": [
        {
          "name": "stdout",
          "output_type": "stream",
          "text": [
            "What is your favorite animalgh\n"
          ]
        },
        {
          "output_type": "display_data",
          "data": {
            "text/plain": [
              "\u001b[1mMy favorite animal is also : gh\u001b[0m\n"
            ],
            "text/html": [
              "<pre style=\"white-space:pre;overflow-x:auto;line-height:normal;font-family:Menlo,'DejaVu Sans Mono',consolas,'Courier New',monospace\"><span style=\"font-weight: bold\">My favorite animal is also : gh</span>\n",
              "</pre>\n"
            ]
          },
          "metadata": {}
        }
      ]
    },
    {
      "cell_type": "markdown",
      "source": [
        "**03_fahrenheit_to_celsius**"
      ],
      "metadata": {
        "id": "23IKuf6RnHZU"
      }
    },
    {
      "cell_type": "code",
      "source": [
        "def main():\n",
        "   degrees_fahrenheit = float(input(\"Enter degrees Fahrenheit: \"))\n",
        "   degrees_celsius = (degrees_fahrenheit - 32) * 5.0/9.0\n",
        "   print(f\"Temperature: {degrees_fahrenheit} = {degrees_celsius}C\")\n",
        "\n",
        "\n",
        "if __name__ == '__main__':\n",
        "    main()"
      ],
      "metadata": {
        "colab": {
          "base_uri": "https://localhost:8080/",
          "height": 51
        },
        "id": "-sLwF3xfnJco",
        "outputId": "cb6cf267-bd99-401e-9a94-14e15d966cc2"
      },
      "execution_count": null,
      "outputs": [
        {
          "name": "stdout",
          "output_type": "stream",
          "text": [
            "Enter degrees Fahrenheit: 76\n"
          ]
        },
        {
          "output_type": "display_data",
          "data": {
            "text/plain": [
              "Temperature: \u001b[1;36m76.0\u001b[0m = \u001b[1;36m24.444444444444443\u001b[0m\n"
            ],
            "text/html": [
              "<pre style=\"white-space:pre;overflow-x:auto;line-height:normal;font-family:Menlo,'DejaVu Sans Mono',consolas,'Courier New',monospace\">Temperature: <span style=\"color: #008080; text-decoration-color: #008080; font-weight: bold\">76.0</span> = <span style=\"color: #008080; text-decoration-color: #008080; font-weight: bold\">24.444444444444443</span>\n",
              "</pre>\n"
            ]
          },
          "metadata": {}
        }
      ]
    },
    {
      "cell_type": "markdown",
      "source": [
        "**04_how_old_are_they**"
      ],
      "metadata": {
        "id": "Ne_qkRgFn6U3"
      }
    },
    {
      "cell_type": "code",
      "source": [
        "def main():\n",
        "    anton : int = 21  # Anton's age is given as 21 years old\n",
        "    beth : int = 6 + anton  # Beth is 6 years older than Anton, so add 6 to Anton's age to get Beth's\n",
        "    chen : int = 20 + beth  # Chen is 20 years older than Beth, so add 20 to Beth's age to get Chen's\n",
        "    drew  : int= chen + anton  # Drew is as old as Chen's age plus Anton's age, so add them together\n",
        "    ethan : int = chen  # Ethan is the same age as Chen, so set Ethan's age equal to Chen's\n",
        "\n",
        "   # Print out all of the ages!\n",
        "    print(\"Anton is \" + str(anton))\n",
        "    print(\"Beth is \" + str(beth))\n",
        "    print(\"Chen is \" + str(chen))\n",
        "    print(\"Drew is \" + str(drew))\n",
        "    print(\"Ethan is \" + str(ethan))\n",
        "\n",
        "\n",
        "# There is no need to edit code beyond this point\n",
        "\n",
        "if __name__ == '__main__':\n",
        "    main()"
      ],
      "metadata": {
        "colab": {
          "base_uri": "https://localhost:8080/",
          "height": 102
        },
        "id": "93CaM7zon7sa",
        "outputId": "45d2770f-05ed-46e0-fa53-12cabb81beb8"
      },
      "execution_count": null,
      "outputs": [
        {
          "output_type": "display_data",
          "data": {
            "text/plain": [
              "Anton is \u001b[1;36m21\u001b[0m\n"
            ],
            "text/html": [
              "<pre style=\"white-space:pre;overflow-x:auto;line-height:normal;font-family:Menlo,'DejaVu Sans Mono',consolas,'Courier New',monospace\">Anton is <span style=\"color: #008080; text-decoration-color: #008080; font-weight: bold\">21</span>\n",
              "</pre>\n"
            ]
          },
          "metadata": {}
        },
        {
          "output_type": "display_data",
          "data": {
            "text/plain": [
              "Beth is \u001b[1;36m27\u001b[0m\n"
            ],
            "text/html": [
              "<pre style=\"white-space:pre;overflow-x:auto;line-height:normal;font-family:Menlo,'DejaVu Sans Mono',consolas,'Courier New',monospace\">Beth is <span style=\"color: #008080; text-decoration-color: #008080; font-weight: bold\">27</span>\n",
              "</pre>\n"
            ]
          },
          "metadata": {}
        },
        {
          "output_type": "display_data",
          "data": {
            "text/plain": [
              "Chen is \u001b[1;36m47\u001b[0m\n"
            ],
            "text/html": [
              "<pre style=\"white-space:pre;overflow-x:auto;line-height:normal;font-family:Menlo,'DejaVu Sans Mono',consolas,'Courier New',monospace\">Chen is <span style=\"color: #008080; text-decoration-color: #008080; font-weight: bold\">47</span>\n",
              "</pre>\n"
            ]
          },
          "metadata": {}
        },
        {
          "output_type": "display_data",
          "data": {
            "text/plain": [
              "Drew is \u001b[1;36m68\u001b[0m\n"
            ],
            "text/html": [
              "<pre style=\"white-space:pre;overflow-x:auto;line-height:normal;font-family:Menlo,'DejaVu Sans Mono',consolas,'Courier New',monospace\">Drew is <span style=\"color: #008080; text-decoration-color: #008080; font-weight: bold\">68</span>\n",
              "</pre>\n"
            ]
          },
          "metadata": {}
        },
        {
          "output_type": "display_data",
          "data": {
            "text/plain": [
              "Ethan is \u001b[1;36m47\u001b[0m\n"
            ],
            "text/html": [
              "<pre style=\"white-space:pre;overflow-x:auto;line-height:normal;font-family:Menlo,'DejaVu Sans Mono',consolas,'Courier New',monospace\">Ethan is <span style=\"color: #008080; text-decoration-color: #008080; font-weight: bold\">47</span>\n",
              "</pre>\n"
            ]
          },
          "metadata": {}
        }
      ]
    },
    {
      "cell_type": "markdown",
      "source": [
        "**05_triangle_perimeter**"
      ],
      "metadata": {
        "id": "FY4dQIjWoNnm"
      }
    },
    {
      "cell_type": "code",
      "source": [
        "\n",
        "\n",
        "\n",
        "def main():\n",
        "    side_1 = float(input(\"What is the length of side 1? \"))\n",
        "    side_2 = float(input(\"What is the length of side 2? \"))\n",
        "    side_3 = float(input(\"What is the length of side 3? \"))\n",
        "    perimeter = side_1 + side_2 + side_3\n",
        "    print(f\"The perimeter of the triangle is {perimeter}\")\n",
        "if __name__ == '__main__':\n",
        "    main()"
      ],
      "metadata": {
        "colab": {
          "base_uri": "https://localhost:8080/",
          "height": 86
        },
        "id": "LL5B24x5oSjy",
        "outputId": "dafeacbd-7ad8-42f5-fea3-f40e09f3cfd0"
      },
      "execution_count": null,
      "outputs": [
        {
          "name": "stdout",
          "output_type": "stream",
          "text": [
            "What is the length of side 1? 3\n",
            "What is the length of side 2? 4\n",
            "What is the length of side 3? 5.5\n"
          ]
        },
        {
          "output_type": "display_data",
          "data": {
            "text/plain": [
              "The perimeter of the triangle is \u001b[1;36m12.5\u001b[0m\n"
            ],
            "text/html": [
              "<pre style=\"white-space:pre;overflow-x:auto;line-height:normal;font-family:Menlo,'DejaVu Sans Mono',consolas,'Courier New',monospace\">The perimeter of the triangle is <span style=\"color: #008080; text-decoration-color: #008080; font-weight: bold\">12.5</span>\n",
              "</pre>\n"
            ]
          },
          "metadata": {}
        }
      ]
    },
    {
      "cell_type": "markdown",
      "source": [
        "**06_square_number**"
      ],
      "metadata": {
        "id": "SIlkItGRopfT"
      }
    },
    {
      "cell_type": "code",
      "source": [
        "def main():\n",
        "    number = int(input(\"Enter a number: \"))\n",
        "    square = number * number\n",
        "    print(f\"The square of {number} is {square}\")\n",
        "\n",
        "if __name__ == '__main__':\n",
        "    main()"
      ],
      "metadata": {
        "colab": {
          "base_uri": "https://localhost:8080/",
          "height": 51
        },
        "id": "RXbhPlK3ot1O",
        "outputId": "459462e9-3d31-46fe-a7e9-d1d108906837"
      },
      "execution_count": null,
      "outputs": [
        {
          "name": "stdout",
          "output_type": "stream",
          "text": [
            "Enter a number: 2\n"
          ]
        },
        {
          "output_type": "display_data",
          "data": {
            "text/plain": [
              "The square of \u001b[1;36m2\u001b[0m is \u001b[1;36m4\u001b[0m\n"
            ],
            "text/html": [
              "<pre style=\"white-space:pre;overflow-x:auto;line-height:normal;font-family:Menlo,'DejaVu Sans Mono',consolas,'Courier New',monospace\">The square of <span style=\"color: #008080; text-decoration-color: #008080; font-weight: bold\">2</span> is <span style=\"color: #008080; text-decoration-color: #008080; font-weight: bold\">4</span>\n",
              "</pre>\n"
            ]
          },
          "metadata": {}
        }
      ]
    },
    {
      "cell_type": "markdown",
      "source": [
        "# 01_expressions"
      ],
      "metadata": {
        "id": "ScA2yCL-AkCX"
      }
    },
    {
      "cell_type": "markdown",
      "source": [
        "**01_dicesimulator**"
      ],
      "metadata": {
        "id": "WsHqeEX2AyJQ"
      }
    },
    {
      "cell_type": "code",
      "source": [
        "import random\n",
        "\n",
        "def roll_dice():\n",
        "    die1 = random.randint(1, 6)  # Local scope\n",
        "    die2 = random.randint(1, 6)  # Local scope\n",
        "    return die1, die2\n",
        "def main():\n",
        "  for i in range(3):  # Loop runs three times\n",
        "      roll1, roll2 = roll_dice()  # roll1 and roll2 have local scope in this loop\n",
        "      print(f\"Roll {i+1}: Die 1 = {roll1}, Die 2 = {roll2}\")\n",
        "\n",
        "if __name__ == '__main__':\n",
        "    main()\n"
      ],
      "metadata": {
        "colab": {
          "base_uri": "https://localhost:8080/"
        },
        "id": "_IA_R95LAunJ",
        "outputId": "3b47fef8-c0fa-4f84-9b39-fc65a937a8fd"
      },
      "execution_count": null,
      "outputs": [
        {
          "output_type": "stream",
          "name": "stdout",
          "text": [
            "Roll 1: Die 1 = 2, Die 2 = 2\n",
            "Roll 2: Die 1 = 1, Die 2 = 6\n",
            "Roll 3: Die 1 = 1, Die 2 = 2\n"
          ]
        }
      ]
    },
    {
      "cell_type": "markdown",
      "source": [
        "02_e=**mc2**"
      ],
      "metadata": {
        "id": "sLa3YXxsCPrp"
      }
    },
    {
      "cell_type": "code",
      "source": [
        "def main():\n",
        "  m=float(input(\"Enter kilos of mass: \"))\n",
        "  c= 299792458\n",
        "  E = m * c**2\n",
        "  print(f\"Mass in kg is :{m}\")\n",
        "  print(f\"Speed of light in m/s is :{c}\")\n",
        "  print(f\"{E} joules of energy!\")\n",
        "\n",
        "if __name__ == '__main__':\n",
        "    main()"
      ],
      "metadata": {
        "colab": {
          "base_uri": "https://localhost:8080/"
        },
        "id": "SueLZvXRCeqp",
        "outputId": "f949752c-c0ec-4ef6-ac98-d0598fc61f8a"
      },
      "execution_count": null,
      "outputs": [
        {
          "output_type": "stream",
          "name": "stdout",
          "text": [
            "Enter kilos of mass: 100\n",
            "Mass in kg is :100.0\n",
            "Speed of light in m/s is :299792458\n",
            "8.987551787368176e+18 joules of energy!\n"
          ]
        }
      ]
    },
    {
      "cell_type": "markdown",
      "source": [
        "**03_feet_to_inches**"
      ],
      "metadata": {
        "id": "2ZJw_bUVDXjc"
      }
    },
    {
      "cell_type": "code",
      "source": [
        "def main():\n",
        "   feet = int(input(\"Enter number of feet: \"))\n",
        "   inches = feet * 12\n",
        "   print(f\"{feet} feet is {inches} inches\")\n",
        "if __name__ == '__main__':\n",
        "    main()"
      ],
      "metadata": {
        "colab": {
          "base_uri": "https://localhost:8080/"
        },
        "id": "wxMXfX45Dg-m",
        "outputId": "064db7b4-8060-4535-904f-52e970f3ca26"
      },
      "execution_count": null,
      "outputs": [
        {
          "output_type": "stream",
          "name": "stdout",
          "text": [
            "Enter number of feet: 2\n",
            "2 feet is 24 inches\n"
          ]
        }
      ]
    },
    {
      "cell_type": "markdown",
      "source": [
        "**05_remainder_division**"
      ],
      "metadata": {
        "id": "5hjxy5qID05J"
      }
    },
    {
      "cell_type": "code",
      "source": [
        "def main():\n",
        "    divided = int(input(\"Please enter an integer to be divided:\"))\n",
        "    divisor= int(input(\"Please enter an integer to divide by\"))\n",
        "    quotient = divided // divisor\n",
        "    remainder = divisor % divided\n",
        "    print(f\"The remainder of {divisor} divided by {divided} is {remainder}\")\n",
        "\n",
        "if __name__ == '__main__':\n",
        "    main()"
      ],
      "metadata": {
        "colab": {
          "base_uri": "https://localhost:8080/"
        },
        "id": "aDeskD_PD2Xg",
        "outputId": "39ff6dba-7967-4660-e0dd-4e4ac5895b64"
      },
      "execution_count": null,
      "outputs": [
        {
          "output_type": "stream",
          "name": "stdout",
          "text": [
            "Please enter an integer to be divided:4\n",
            "Please enter an integer to divide by5\n",
            "The remainder of 5 divided by 4 is 1\n"
          ]
        }
      ]
    },
    {
      "cell_type": "markdown",
      "source": [
        "**04_pythagorean_theorem**"
      ],
      "metadata": {
        "id": "tGJynIMiEx8n"
      }
    },
    {
      "cell_type": "code",
      "source": [
        "import math  # Import the math library so we can use the sqrt function\n",
        "\n",
        "def main():\n",
        "    # Get the two side lengths from the user and cast them to be numbers\n",
        "    ab: float = float(input(\"Enter the length of AB: \"))\n",
        "    ac: float = float(input(\"Enter the length of AC: \"))\n",
        "\n",
        "    # Calculate the hypotenuse using the two sides and print it out\n",
        "    bc: float = math.sqrt(ab**2 + ac**2)\n",
        "    print(\"The length of BC (the hypotenuse) is: \" + str(bc))\n",
        "\n",
        "\n",
        "# There is no need to edit code beyond this point\n",
        "\n",
        "if __name__ == '__main__':\n",
        "    main()"
      ],
      "metadata": {
        "colab": {
          "base_uri": "https://localhost:8080/"
        },
        "id": "GZy0FTdsEznI",
        "outputId": "0144fc09-0dd7-47eb-a302-a7fb3d802fac"
      },
      "execution_count": null,
      "outputs": [
        {
          "output_type": "stream",
          "name": "stdout",
          "text": [
            "Enter the length of AB: 2\n",
            "Enter the length of AC: 3\n",
            "The length of BC (the hypotenuse) is: 3.605551275463989\n"
          ]
        }
      ]
    },
    {
      "cell_type": "markdown",
      "source": [
        "**06_rolldice**"
      ],
      "metadata": {
        "id": "HMEDsNkhE3NR"
      }
    },
    {
      "cell_type": "code",
      "source": [
        "\n",
        "import random\n",
        "\n",
        "\n",
        "def main():\n",
        "    # Setting a seed is useful for debugging (uncomment the line below to do so!)\n",
        "    # random.seed(1)\n",
        "\n",
        "    # Roll die\n",
        "    die1: int = random.randint(1,6)\n",
        "    die2: int = random.randint(1, 6)\n",
        "\n",
        "\n",
        "    total: int = die1 + die2\n",
        "\n",
        "    # Print out the results\n",
        "    print(\"Dice have\", 6, \"sides each.\")\n",
        "    print(\"First die:\", die1)\n",
        "    print(\"Second die:\", die2)\n",
        "    print(\"Total of two dice:\", total)\n",
        "\n",
        "\n",
        "\n",
        "if __name__ == '__main__':\n",
        "    main()\n"
      ],
      "metadata": {
        "colab": {
          "base_uri": "https://localhost:8080/"
        },
        "id": "VAFE2wBXFKCd",
        "outputId": "ee047d29-40a7-4cda-f65f-1e40b1847c28"
      },
      "execution_count": null,
      "outputs": [
        {
          "output_type": "stream",
          "name": "stdout",
          "text": [
            "Dice have 6 sides each.\n",
            "First die: 2\n",
            "Second die: 6\n",
            "Total of two dice: 8\n"
          ]
        }
      ]
    },
    {
      "cell_type": "markdown",
      "source": [],
      "metadata": {
        "id": "-1fLeSGjFoBy"
      }
    },
    {
      "cell_type": "code",
      "source": [
        "def main():\n",
        "   print(\"There are \" + str(365 * 24 * 60 * 60) + \" seconds in a year!\")\n",
        "if __name__ == '__main__':\n",
        "    main()"
      ],
      "metadata": {
        "colab": {
          "base_uri": "https://localhost:8080/"
        },
        "id": "3Qx6gt2DFqLs",
        "outputId": "4840ba26-3b3c-480a-96b2-48f8cabd99db"
      },
      "execution_count": null,
      "outputs": [
        {
          "output_type": "stream",
          "name": "stdout",
          "text": [
            "There are 31536000 seconds in a year!\n"
          ]
        }
      ]
    },
    {
      "cell_type": "markdown",
      "source": [
        "**07_tiny_mad_lib**"
      ],
      "metadata": {
        "id": "OemXRqjOGK9y"
      }
    },
    {
      "cell_type": "code",
      "source": [
        "SENTENCE_START = \"Code in Place is fun. I learned to program and used Python to make my\"\n",
        "\n",
        "# Prompt the user for input\n",
        "adjective = input(\"Please type an adjective and press enter: \")\n",
        "noun = input(\"Please type a noun and press enter: \")\n",
        "verb = input(\"Please type a verb and press enter: \")\n",
        "\n",
        "# Print the final sentence\n",
        "print(f\"{SENTENCE_START} {adjective} {noun} {verb}!\")\n"
      ],
      "metadata": {
        "colab": {
          "base_uri": "https://localhost:8080/"
        },
        "id": "RS8lJJ50GJwI",
        "outputId": "287d1281-006e-46ce-e96a-2ecd6121b117"
      },
      "execution_count": null,
      "outputs": [
        {
          "output_type": "stream",
          "name": "stdout",
          "text": [
            "Please type an adjective and press enter: df\n",
            "Please type a noun and press enter: ds\n",
            "Please type a verb and press enter: fds\n",
            "Code in Place is fun. I learned to program and used Python to make my df ds fds!\n"
          ]
        }
      ]
    },
    {
      "cell_type": "markdown",
      "source": [
        "# 02-**List:**\n",
        "\n",
        "\n",
        "\n"
      ],
      "metadata": {
        "id": "qvH9Rn3IGcB9"
      }
    },
    {
      "cell_type": "markdown",
      "source": [
        "**01_add_many_number**"
      ],
      "metadata": {
        "id": "8YVpA42yGu6Z"
      }
    },
    {
      "cell_type": "code",
      "source": [
        "def main():\n",
        "    List = []  # Initialize an empty list\n",
        "    for _ in range(7):  # Loop to get two numbers from the user\n",
        "        number = int(input(\"Enter a number: \"))\n",
        "        List.append(number)\n",
        "\n",
        "    total_sum = sum(List)  # Calculate the sum of the numbers\n",
        "    print(f\"The sum of the numbers is {total_sum}\")\n",
        "\n",
        "if __name__ == '__main__':\n",
        "    main()\n"
      ],
      "metadata": {
        "colab": {
          "base_uri": "https://localhost:8080/"
        },
        "id": "d17aH8cVGxrP",
        "outputId": "130ff0d3-1f14-4c4b-8804-84560da21247"
      },
      "execution_count": null,
      "outputs": [
        {
          "output_type": "stream",
          "name": "stdout",
          "text": [
            "Enter a number: 3\n",
            "Enter a number: 43\n",
            "The sum of the numbers is 46\n"
          ]
        }
      ]
    },
    {
      "cell_type": "markdown",
      "source": [
        "**02_double_list**"
      ],
      "metadata": {
        "id": "HqlJwkqeHjWR"
      }
    },
    {
      "cell_type": "code",
      "source": [
        "def main():\n",
        "  List = []  # Initialize an empty list\n",
        "  for _ in range(4):  # Loop to get two numbers from the user\n",
        "        number = int(input(\"Enter a number: \"))\n",
        "        List.append(number)\n",
        "  print(f\"List you enter:{List}\")\n",
        "  double_list=[num*2 for num in List]\n",
        "  print(f\"List doubled:{double_list}\")\n",
        "\n",
        "\n",
        "if __name__ == '__main__':\n",
        "    main()"
      ],
      "metadata": {
        "colab": {
          "base_uri": "https://localhost:8080/"
        },
        "id": "qFpN_9QEHk9g",
        "outputId": "7553ca44-11c9-4289-f5ad-12a9d1969d61"
      },
      "execution_count": null,
      "outputs": [
        {
          "output_type": "stream",
          "name": "stdout",
          "text": [
            "Enter a number: 2\n",
            "Enter a number: 3\n",
            "Enter a number: 4\n",
            "Enter a number: 5\n",
            "List you enter:[2, 3, 4, 5]\n",
            "List doubled:[4, 6, 8, 10]\n"
          ]
        }
      ]
    },
    {
      "cell_type": "markdown",
      "source": [
        "04_flowing_with_data_structures"
      ],
      "metadata": {
        "id": "8YAIUDg_JSxB"
      }
    },
    {
      "cell_type": "code",
      "source": [
        "def add_three_copies(my_list, data):\n",
        "    for i in range(3):\n",
        "        my_list.append(data)\n",
        "\n",
        "\n",
        "def main():\n",
        "    message = input(\"Enter a message to copy: \")\n",
        "    my_list = []\n",
        "    print(\"List before:\", my_list)\n",
        "    add_three_copies(my_list, message)\n",
        "    print(\"List after:\", my_list)\n",
        "\n",
        "if __name__ == \"__main__\":\n",
        "    main()"
      ],
      "metadata": {
        "colab": {
          "base_uri": "https://localhost:8080/"
        },
        "id": "zN3MnOpSJVSl",
        "outputId": "4e84a4db-5873-43a9-976e-487b2067353c"
      },
      "execution_count": null,
      "outputs": [
        {
          "output_type": "stream",
          "name": "stdout",
          "text": [
            "Enter a message to copy: hello\n",
            "List before: []\n",
            "List after: ['hello', 'hello', 'hello']\n"
          ]
        }
      ]
    },
    {
      "cell_type": "markdown",
      "source": [
        "**05_get_first_element**"
      ],
      "metadata": {
        "id": "4uksSnjMA4zn"
      }
    },
    {
      "cell_type": "code",
      "source": [
        "lst = []  # Initialize an empty list\n",
        "def get_first_element(lst):\n",
        "  if not lst:\n",
        "    print(\"List is empty\")\n",
        "    return\n",
        "  print(lst[0])\n",
        "\n",
        "def get_list():\n",
        "\n",
        "  for _ in range(4):  # Loop to get two numbers from the user\n",
        "        number = int(input(\"Enter a number: \"))\n",
        "        lst.append(number)\n",
        "  print(f\"List you enter:{lst}\")\n",
        "\n",
        "def main():\n",
        "    get_list()\n",
        "    get_first_element(lst)\n",
        "\n",
        "if __name__ == '__main__':\n",
        "    main()"
      ],
      "metadata": {
        "colab": {
          "base_uri": "https://localhost:8080/"
        },
        "id": "G1KQ4C0WA6L4",
        "outputId": "d1e4f566-52be-446f-d084-507f39129b13"
      },
      "execution_count": null,
      "outputs": [
        {
          "output_type": "stream",
          "name": "stdout",
          "text": [
            "Enter a number: 3\n",
            "Enter a number: 4\n",
            "Enter a number: 2\n",
            "Enter a number: 5\n",
            "List you enter:[3, 4, 2, 5]\n",
            "3\n"
          ]
        }
      ]
    },
    {
      "cell_type": "markdown",
      "source": [
        "**06_get_last_element**"
      ],
      "metadata": {
        "id": "W1RUKGytCFvy"
      }
    },
    {
      "cell_type": "code",
      "source": [
        "lst = []  # Initialize an empty list\n",
        "def get_first_element(lst):\n",
        "  if not lst:\n",
        "    print(\"List is empty\")\n",
        "    return\n",
        "  print(lst[-1])\n",
        "\n",
        "def get_list():\n",
        "\n",
        "  for _ in range(4):  # Loop to get two numbers from the user\n",
        "        number = int(input(\"Enter a number: \"))\n",
        "        lst.append(number)\n",
        "  print(f\"List you enter:{lst}\")\n",
        "\n",
        "def main():\n",
        "    get_list()\n",
        "    get_first_element(lst)\n",
        "\n",
        "if __name__ == '__main__':\n",
        "    main()"
      ],
      "metadata": {
        "colab": {
          "base_uri": "https://localhost:8080/"
        },
        "id": "qJ6s3phRCLLU",
        "outputId": "84f18d2e-649b-4448-fc48-4fa25328fa17"
      },
      "execution_count": null,
      "outputs": [
        {
          "output_type": "stream",
          "name": "stdout",
          "text": [
            "Enter a number: 2\n",
            "Enter a number: 3\n",
            "Enter a number: 4\n",
            "Enter a number: 5\n",
            "List you enter:[2, 3, 4, 5]\n",
            "5\n"
          ]
        }
      ]
    },
    {
      "cell_type": "markdown",
      "source": [
        "**07_get_list**"
      ],
      "metadata": {
        "id": "sBjZMJDmCkmP"
      }
    },
    {
      "cell_type": "code",
      "source": [
        "def main():\n",
        "  lst=[]\n",
        "  user=input(\"Enter a value: \")\n",
        "\n",
        "  while user:\n",
        "    lst.append(user)\n",
        "    user=input(\"Enter a value: \")\n",
        "\n",
        "  print(lst)\n",
        "\n",
        "\n",
        "if __name__ == '__main__':\n",
        "    main()"
      ],
      "metadata": {
        "colab": {
          "base_uri": "https://localhost:8080/"
        },
        "id": "q0uBZtjxClmJ",
        "outputId": "8501dbfd-9c1d-4aa5-bce8-df62408081eb"
      },
      "execution_count": null,
      "outputs": [
        {
          "output_type": "stream",
          "name": "stdout",
          "text": [
            "Enter a value: 2\n",
            "Enter a value: 3\n",
            "Enter a value: 4\n",
            "Enter a value: \n",
            "['2', '3', '4']\n"
          ]
        }
      ]
    },
    {
      "cell_type": "markdown",
      "source": [
        "**08_shorten**"
      ],
      "metadata": {
        "id": "XlvuPTkCDWNr"
      }
    },
    {
      "cell_type": "code",
      "source": [
        "lst = []  # Initialize an empty list\n",
        "MAX_LENGTH:int=3\n",
        "def get_shortent(lst):\n",
        "  while len(lst)>MAX_LENGTH:\n",
        "    last_element=lst.pop()\n",
        "    print(f\"Removed:{last_element}\")\n",
        "  print(lst)\n",
        "\n",
        "\n",
        "def get_list():\n",
        "\n",
        "  for _ in range(4):  # Loop to get two numbers from the user\n",
        "        number = int(input(\"Enter a number: \"))\n",
        "        lst.append(number)\n",
        "  print(f\"List you enter:{lst}\")\n",
        "\n",
        "def main():\n",
        "    get_list()\n",
        "    get_shortent(lst)\n",
        "\n",
        "if __name__ == '__main__':\n",
        "    main()"
      ],
      "metadata": {
        "colab": {
          "base_uri": "https://localhost:8080/"
        },
        "id": "aNqPlIRqDXaT",
        "outputId": "c4e28044-ed36-42d1-b32a-426d0ea6ee79"
      },
      "execution_count": null,
      "outputs": [
        {
          "output_type": "stream",
          "name": "stdout",
          "text": [
            "Enter a number: 3\n",
            "Enter a number: 4\n",
            "Enter a number: 5\n",
            "Enter a number: 2\n",
            "List you enter:[3, 4, 5, 2]\n",
            "Removed:2\n",
            "[3, 4, 5]\n"
          ]
        }
      ]
    },
    {
      "cell_type": "markdown",
      "source": [
        "# **03_if_statements**"
      ],
      "metadata": {
        "id": "KcypWz9hERSV"
      }
    },
    {
      "cell_type": "markdown",
      "source": [
        "**01_print_events**"
      ],
      "metadata": {
        "id": "h05eIbw5EUjf"
      }
    },
    {
      "cell_type": "code",
      "source": [
        "def main():\n",
        "  for i in range(20):\n",
        "        print(i * 2)\n",
        "\n",
        "if __name__ == '__main__':\n",
        "    main()"
      ],
      "metadata": {
        "colab": {
          "base_uri": "https://localhost:8080/"
        },
        "id": "dgqd33cREXpn",
        "outputId": "2e7c6677-013d-40b4-b7bb-29af4b69ae34"
      },
      "execution_count": null,
      "outputs": [
        {
          "output_type": "stream",
          "name": "stdout",
          "text": [
            "0\n",
            "2\n",
            "4\n",
            "6\n",
            "8\n",
            "10\n",
            "12\n",
            "14\n",
            "16\n",
            "18\n",
            "20\n",
            "22\n",
            "24\n",
            "26\n",
            "28\n",
            "30\n",
            "32\n",
            "34\n",
            "36\n",
            "38\n"
          ]
        }
      ]
    },
    {
      "cell_type": "markdown",
      "source": [
        "**02_international_voting_age**"
      ],
      "metadata": {
        "id": "4OvkE1iuFbtR"
      }
    },
    {
      "cell_type": "code",
      "source": [
        "PETURKSBOUIPO_AGE : int = 16\n",
        "STANLAU_AGE : int = 25\n",
        "MAYENGUA_AGE : int = 48\n",
        "\n",
        "def main():\n",
        "    # Get the user's age\n",
        "    user_age = int(input(\"How old are you? \"))\n",
        "\n",
        "    # Check if the user can vote in Peturksbouipo\n",
        "    if user_age >= PETURKSBOUIPO_AGE:\n",
        "        print(\"You can vote in Peturksbouipo where the voting age is \" + str(PETURKSBOUIPO_AGE) + \".\")\n",
        "    else:\n",
        "        print(\"You cannot vote in Peturksbouipo where the voting age is \" + str(PETURKSBOUIPO_AGE) + \".\")\n",
        "\n",
        "    # Check if the user can vote in Stanlau\n",
        "    if user_age >= STANLAU_AGE:\n",
        "        print(\"You can vote in Stanlau where the voting age is \" + str(STANLAU_AGE) + \".\")\n",
        "    else:\n",
        "        print(\"You cannot vote in Stanlau where the voting age is \" + str(STANLAU_AGE) + \".\")\n",
        "\n",
        "    # Check if user can vote in Mayengua\n",
        "    if user_age >= MAYENGUA_AGE:\n",
        "        print(\"You can vote in Mayengua where the voting age is \" + str(MAYENGUA_AGE) + \".\")\n",
        "    else:\n",
        "        print(\"You cannot vote in Mayengua where the voting age is \" + str(MAYENGUA_AGE) + \".\")\n",
        "\n",
        "\n",
        "# There is no need to edit code beyond this point\n",
        "\n",
        "if __name__ == '__main__':\n",
        "    main()"
      ],
      "metadata": {
        "colab": {
          "base_uri": "https://localhost:8080/"
        },
        "id": "ppo2GblhFc9O",
        "outputId": "ee7577cb-c0c0-40e2-9e31-186f2282f7c5"
      },
      "execution_count": null,
      "outputs": [
        {
          "output_type": "stream",
          "name": "stdout",
          "text": [
            "How old are you? 13\n",
            "You cannot vote in Peturksbouipo where the voting age is 16.\n",
            "You cannot vote in Stanlau where the voting age is 25.\n",
            "You cannot vote in Mayengua where the voting age is 48.\n"
          ]
        }
      ]
    },
    {
      "cell_type": "markdown",
      "source": [
        "**03_leap_year**"
      ],
      "metadata": {
        "id": "qNNb7DhzGVyX"
      }
    },
    {
      "cell_type": "code",
      "source": [
        "def main():\n",
        "    year = int(input(\"Enter a year: \"))\n",
        "\n",
        "    if year % 4 == 0:\n",
        "        if year % 100 == 0:\n",
        "            if year % 400 == 0:\n",
        "                print(f\"{year} is a leap year\")\n",
        "            else:\n",
        "                print(f\"{year} is not a leap year\")\n",
        "        else:\n",
        "            print(f\"{year} is a leap year\")\n",
        "    else:\n",
        "        print(f\"{year} is not a leap year\")\n",
        "\n",
        "if __name__ == '__main__':\n",
        "    main()\n"
      ],
      "metadata": {
        "colab": {
          "base_uri": "https://localhost:8080/"
        },
        "id": "cdd5hG0gGXYk",
        "outputId": "c413e85e-15b5-4bc6-d9a1-3f55b275349f"
      },
      "execution_count": null,
      "outputs": [
        {
          "output_type": "stream",
          "name": "stdout",
          "text": [
            "Enter a year: 2024\n",
            "2024 is a leap year\n"
          ]
        }
      ]
    },
    {
      "cell_type": "markdown",
      "source": [
        "**04_tall_enough_to_ride**"
      ],
      "metadata": {
        "id": "a4K5ejbPHcfw"
      }
    },
    {
      "cell_type": "code",
      "source": [
        "def main():\n",
        "    Minimum_height: int = 50\n",
        "\n",
        "    while True:\n",
        "        height_input = input(\"How tall are you? (Press Enter to stop): \")\n",
        "\n",
        "        if height_input == \"\":  # Stop the loop if input is blank\n",
        "            break\n",
        "\n",
        "        height = int(height_input)  # Convert input to integer\n",
        "\n",
        "        if height >= Minimum_height:\n",
        "            print(\"You're tall enough to ride!\")\n",
        "        else:\n",
        "            print(\"You're not tall enough to ride, but maybe next year!\")\n",
        "\n",
        "if __name__ == '__main__':\n",
        "    main()\n"
      ],
      "metadata": {
        "colab": {
          "base_uri": "https://localhost:8080/"
        },
        "id": "RblKZbcTHdxU",
        "outputId": "90a82a45-46a9-4f8e-c506-28b677d8a7dc"
      },
      "execution_count": null,
      "outputs": [
        {
          "name": "stdout",
          "output_type": "stream",
          "text": [
            "How tall are you? (Press Enter to stop): 34\n",
            "You're not tall enough to ride, but maybe next year!\n",
            "How tall are you? (Press Enter to stop): 234\n",
            "You're tall enough to ride!\n",
            "How tall are you? (Press Enter to stop): 23\n",
            "You're not tall enough to ride, but maybe next year!\n",
            "How tall are you? (Press Enter to stop): 1\n",
            "You're not tall enough to ride, but maybe next year!\n",
            "How tall are you? (Press Enter to stop): \n"
          ]
        }
      ]
    },
    {
      "cell_type": "markdown",
      "source": [
        "**05_random_numbers**"
      ],
      "metadata": {
        "id": "DvOh_wwBJ42q"
      }
    },
    {
      "cell_type": "code",
      "source": [
        "import random\n",
        "Min_start=1\n",
        "Max_to=100\n",
        "number=10\n",
        "def main():\n",
        "  for i in range(number):\n",
        "    random_number=random.randint(Min_start,Max_to)\n",
        "    print(random_number)\n",
        "if __name__ == '__main__':\n",
        "    main()\n"
      ],
      "metadata": {
        "colab": {
          "base_uri": "https://localhost:8080/"
        },
        "id": "dGmZ2Qp5J8ra",
        "outputId": "08b9a77d-be09-430b-8fa7-401c69af11e4"
      },
      "execution_count": null,
      "outputs": [
        {
          "output_type": "stream",
          "name": "stdout",
          "text": [
            "94\n",
            "77\n",
            "7\n",
            "86\n",
            "84\n",
            "18\n",
            "90\n",
            "8\n",
            "54\n",
            "40\n"
          ]
        }
      ]
    },
    {
      "cell_type": "markdown",
      "source": [
        "# **04_dictionaries**"
      ],
      "metadata": {
        "id": "sJMxJ729KrRy"
      }
    },
    {
      "cell_type": "markdown",
      "source": [
        "**00_count_nums**"
      ],
      "metadata": {
        "id": "EoeyTw_iKvRO"
      }
    },
    {
      "cell_type": "code",
      "source": [
        "def main():\n",
        "    num_counts = {}  # Dictionary to store counts of each number\n",
        "\n",
        "    while True:\n",
        "        num_input = input(\"Enter a number (or press Enter to stop): \")\n",
        "\n",
        "        if num_input == \"\":  # Stop when user enters a blank input\n",
        "            break\n",
        "\n",
        "        num = int(num_input)  # Convert input to an integer\n",
        "\n",
        "        # Update dictionary count\n",
        "        num_counts[num] = num_counts.get(num, 0) + 1\n",
        "\n",
        "    # Display results\n",
        "    for num, count in num_counts.items():\n",
        "        print(f\"{num} appears {count} {'times' if count > 1 else 'time'}.\")\n",
        "\n",
        "if __name__ == \"__main__\":\n",
        "    main()\n"
      ],
      "metadata": {
        "colab": {
          "base_uri": "https://localhost:8080/"
        },
        "id": "PJo5Kc1vKyMS",
        "outputId": "17ed773c-b48c-4d94-eb8b-4ed0bc75b2cf"
      },
      "execution_count": null,
      "outputs": [
        {
          "output_type": "stream",
          "name": "stdout",
          "text": [
            "Enter a number (or press Enter to stop): 34\n",
            "Enter a number (or press Enter to stop): 32\n",
            "Enter a number (or press Enter to stop): 1\n",
            "Enter a number (or press Enter to stop): 3\n",
            "Enter a number (or press Enter to stop): \n",
            "34 appears 1 time.\n",
            "32 appears 1 time.\n",
            "1 appears 1 time.\n",
            "3 appears 1 time.\n"
          ]
        }
      ]
    },
    {
      "cell_type": "markdown",
      "source": [
        "**01_phonebook**"
      ],
      "metadata": {
        "id": "LGaA-HtZNG2r"
      }
    },
    {
      "cell_type": "code",
      "source": [
        "phonebook={}\n",
        "def phone_number():\n",
        "  while True:\n",
        "    name=input(\"Name\")\n",
        "    if name==\"\":\n",
        "      break\n",
        "    else:\n",
        "      number=input(\"Number\")\n",
        "      phonebook[name]=number\n",
        "    for name in phonebook:\n",
        "      print(str(name)+ \"-->\" + str(phonebook[name]))\n",
        "      if name not in phonebook:\n",
        "          print(name + \" is not in the phonebook\")\n",
        "      else:\n",
        "          print(phonebook[name])\n",
        "\n",
        "\n",
        "def main():\n",
        "  phone_number()\n",
        "\n",
        "\n",
        "if __name__ == '__main__':\n",
        "    main()"
      ],
      "metadata": {
        "colab": {
          "base_uri": "https://localhost:8080/"
        },
        "id": "Q19ZIlYDNICn",
        "outputId": "b0109509-316c-44dd-a523-cdbffc2fda25"
      },
      "execution_count": null,
      "outputs": [
        {
          "name": "stdout",
          "output_type": "stream",
          "text": [
            "Nameaiman\n",
            "Number3247234\n",
            "aiman-->3247234\n",
            "3247234\n",
            "Name\n"
          ]
        }
      ]
    },
    {
      "cell_type": "markdown",
      "source": [
        "**02_pop_up_shop**"
      ],
      "metadata": {
        "id": "OT8Pz2lUO2EC"
      }
    },
    {
      "cell_type": "code",
      "source": [
        "def main():\n",
        "  fruits = {'apple': 1.5, 'durian': 50, 'jackfruit': 80, 'kiwi': 1, 'rambutan': 1.5, 'mango': 5}\n",
        "  total_amount=0\n",
        "  for fruit_name in fruits:\n",
        "    fruitPrice=fruits[fruit_name]\n",
        "    tobuy= int(input(\"How many (\" + fruit_name + \") do you want to buy?:\"))\n",
        "    total_amount+=(fruitPrice*tobuy)\n",
        "  print(f\"Total amount is {total_amount}\")\n",
        "\n",
        "\n",
        "\n",
        "if __name__ == '__main__':\n",
        "    main()\n"
      ],
      "metadata": {
        "colab": {
          "base_uri": "https://localhost:8080/"
        },
        "id": "2cwzLKt6O3Vk",
        "outputId": "941e0427-a062-45ba-bd13-90896140cf24"
      },
      "execution_count": null,
      "outputs": [
        {
          "output_type": "stream",
          "name": "stdout",
          "text": [
            "How many (apple) do you want to buy?:2\n",
            "How many (durian) do you want to buy?:3\n",
            "How many (jackfruit) do you want to buy?:2\n",
            "How many (kiwi) do you want to buy?:4\n",
            "How many (rambutan) do you want to buy?:4\n",
            "How many (mango) do you want to buy?:5\n",
            "Total amount is 348.0\n"
          ]
        }
      ]
    },
    {
      "cell_type": "markdown",
      "source": [
        "**03_powerful_passwords**"
      ],
      "metadata": {
        "id": "_siKgVTWQIIn"
      }
    },
    {
      "cell_type": "code",
      "source": [
        "import hashlib\n",
        "\n",
        "def hash_password(password: str) -> str:\n",
        "    \"\"\"Hashes a password using SHA-256.\"\"\"\n",
        "    return hashlib.sha256(password.encode()).hexdigest()\n",
        "\n",
        "def login(email: str, password_to_check: str, stored_logins: dict) -> bool:\n",
        "    \"\"\"Checks if the hashed password matches the stored hash.\"\"\"\n",
        "    if email in stored_logins:\n",
        "        return stored_logins[email] == hash_password(password_to_check)\n",
        "    return False\n",
        "\n",
        "# Example usage:\n",
        "stored_logins = {\n",
        "    \"user@example.com\": hash_password(\"securepassword123\"),\n",
        "    \"admin@example.com\": hash_password(\"adminpassword\"),\n",
        "}\n",
        "\n",
        "# Test cases\n",
        "print(login(\"user@example.com\", \"securepassword123\", stored_logins))  # True\n",
        "print(login(\"user@example.com\", \"wrongpassword\", stored_logins))      # False\n",
        "print(login(\"notregistered@example.com\", \"password\", stored_logins))  # False\n"
      ],
      "metadata": {
        "id": "mVKeenK2QJWN",
        "colab": {
          "base_uri": "https://localhost:8080/"
        },
        "outputId": "fbcbcb9f-8364-4613-c2b1-e9803bc7183b"
      },
      "execution_count": 19,
      "outputs": [
        {
          "output_type": "stream",
          "name": "stdout",
          "text": [
            "True\n",
            "False\n",
            "False\n"
          ]
        }
      ]
    },
    {
      "cell_type": "markdown",
      "source": [
        "# **05_loops_control_flow**"
      ],
      "metadata": {
        "id": "gPXSWBFuZIPa"
      }
    },
    {
      "cell_type": "markdown",
      "source": [
        "**00_guess_my_number**"
      ],
      "metadata": {
        "id": "CwE5J64_ZKRi"
      }
    },
    {
      "cell_type": "code",
      "source": [
        "import random\n",
        "\n",
        "def main():\n",
        "\n",
        "    random_number = random.randint(1, 99)\n",
        "\n",
        "    print(\"I am thinking of a number between 1 and 99...\")\n",
        "\n",
        "    guess = int(input(\"Enter a guess: \"))\n",
        "    while guess !=  random_number:\n",
        "        if guess <  random_number:\n",
        "            print(\"Your guess is too low\")\n",
        "        else:\n",
        "            print(\"Your guess is too high\")\n",
        "\n",
        "        print()\n",
        "        guess = int(input(\"Enter a new guess: \"))\n",
        "    print(\"Great! The number was: \" + str( random_number))\n",
        "\n",
        "if __name__ == '__main__':\n",
        "    main()"
      ],
      "metadata": {
        "id": "Wy0LwIyCZOWr",
        "colab": {
          "base_uri": "https://localhost:8080/"
        },
        "outputId": "827fdf8f-c503-4416-dbb1-b5012a2adee4"
      },
      "execution_count": 20,
      "outputs": [
        {
          "output_type": "stream",
          "name": "stdout",
          "text": [
            "I am thinking of a number between 1 and 99...\n",
            "Enter a guess: 10\n",
            "Your guess is too low\n",
            "\n",
            "Enter a new guess: 80\n",
            "Your guess is too high\n",
            "\n",
            "Enter a new guess: 50\n",
            "Your guess is too high\n",
            "\n",
            "Enter a new guess: 35\n",
            "Your guess is too high\n",
            "\n",
            "Enter a new guess: 23\n",
            "Your guess is too high\n",
            "\n",
            "Enter a new guess: 20\n",
            "Your guess is too high\n",
            "\n",
            "Enter a new guess: 14\n",
            "Your guess is too high\n",
            "\n",
            "Enter a new guess: 10\n",
            "Your guess is too low\n",
            "\n",
            "Enter a new guess: 12\n",
            "Your guess is too high\n",
            "\n",
            "Enter a new guess: 11\n",
            "Great! The number was: 11\n"
          ]
        }
      ]
    },
    {
      "cell_type": "markdown",
      "source": [
        "**01_fibonacc**"
      ],
      "metadata": {
        "id": "CpeU2ja4aA-u"
      }
    },
    {
      "cell_type": "code",
      "source": [
        "MAX_VALUE = 10000\n",
        "\n",
        "def fibonacci_sequence():\n",
        "    a, b = 0, 1\n",
        "    while a < MAX_VALUE:\n",
        "        print(a, end=\" \")\n",
        "        a, b = b, a + b\n",
        "\n",
        "def main():\n",
        "  fibonacci_sequence()\n",
        "\n",
        "\n",
        "if __name__ == '__main__':\n",
        "    main()"
      ],
      "metadata": {
        "colab": {
          "base_uri": "https://localhost:8080/"
        },
        "id": "oSznj1UTaBZf",
        "outputId": "2976e429-2bab-4b06-cd50-df54b1fdfeef"
      },
      "execution_count": null,
      "outputs": [
        {
          "output_type": "stream",
          "name": "stdout",
          "text": [
            "0 1 1 2 3 5 8 13 21 34 55 89 144 233 377 610 987 1597 2584 4181 6765 "
          ]
        }
      ]
    },
    {
      "cell_type": "markdown",
      "source": [
        "**02_print_events**"
      ],
      "metadata": {
        "id": "F85uCCMeaQzj"
      }
    },
    {
      "cell_type": "code",
      "source": [
        "def main():\n",
        "    # This for-loop start at 0 and counts up to 19 (for a total of 20 numbers)\n",
        "    for i in range(20):\n",
        "        print(i * 2)  # Use the 'i' value inside the for-loop\n",
        "\n",
        "# Call the main function when \"run\", no need to edit anything below!\n",
        "if __name__ == \"__main__\":\n",
        "    main()"
      ],
      "metadata": {
        "id": "PCknmC-7aSi2",
        "colab": {
          "base_uri": "https://localhost:8080/"
        },
        "outputId": "024134f7-cf29-4d35-e014-dd3a0c89f760"
      },
      "execution_count": 21,
      "outputs": [
        {
          "output_type": "stream",
          "name": "stdout",
          "text": [
            "0\n",
            "2\n",
            "4\n",
            "6\n",
            "8\n",
            "10\n",
            "12\n",
            "14\n",
            "16\n",
            "18\n",
            "20\n",
            "22\n",
            "24\n",
            "26\n",
            "28\n",
            "30\n",
            "32\n",
            "34\n",
            "36\n",
            "38\n"
          ]
        }
      ]
    },
    {
      "cell_type": "markdown",
      "source": [
        "**03_wholesome_machine**"
      ],
      "metadata": {
        "id": "-hC1zTJeaeSP"
      }
    },
    {
      "cell_type": "code",
      "source": [
        "def main():\n",
        "    AFFIRMATION = \"I am capable of doing anything I put my mind to.\"\n",
        "    print(f\"Please type the following affirmation: {AFFIRMATION}\")\n",
        "    while True:\n",
        "        user_input = input()\n",
        "        if user_input == AFFIRMATION:\n",
        "            print(\"That's right! :)\")\n",
        "            break\n",
        "        else:\n",
        "            print(\"Hmmm That was not the affirmation. Please type the following affirmation:\")\n",
        "\n",
        "# This provided line is required at the end of\n",
        "# Python file to call the main() function.\n",
        "if __name__ == '__main__':\n",
        "    main()\n"
      ],
      "metadata": {
        "colab": {
          "base_uri": "https://localhost:8080/"
        },
        "id": "4YeYtJ3Ea6PV",
        "outputId": "0f9f82f9-e954-4960-d4e3-8633252aa3cc"
      },
      "execution_count": null,
      "outputs": [
        {
          "output_type": "stream",
          "name": "stdout",
          "text": [
            "Please type the following affirmation: I am capable of doing anything I put my mind to.\n",
            "I am capable of doing anything I put my mind to\n",
            "Hmmm That was not the affirmation. Please type the following affirmation:\n",
            "I am capable of doing anything I put my mind to.\n",
            "That's right! :)\n"
          ]
        }
      ]
    },
    {
      "cell_type": "markdown",
      "source": [
        "**04_liftoff**"
      ],
      "metadata": {
        "id": "-KGCT59obwvf"
      }
    },
    {
      "cell_type": "code",
      "source": [
        "def main():\n",
        "    for i in range(10, 0, -1):\n",
        "        print(i, end=\" \")\n",
        "    print(\"Liftoff!\")\n",
        "\n",
        "# This provided line is required at the end of\n",
        "# Python file to call the main() function.\n",
        "if __name__ == '__main__':\n",
        "    main()\n"
      ],
      "metadata": {
        "colab": {
          "base_uri": "https://localhost:8080/"
        },
        "id": "1LqxzVoNbxU-",
        "outputId": "a6ca9ae2-0170-4a46-cd0c-cf4ca16212eb"
      },
      "execution_count": null,
      "outputs": [
        {
          "output_type": "stream",
          "name": "stdout",
          "text": [
            "10 9 8 7 6 5 4 3 2 1 Liftoff!\n"
          ]
        }
      ]
    },
    {
      "cell_type": "markdown",
      "source": [
        "# **06_functions**"
      ],
      "metadata": {
        "id": "TIPApG5VdVrX"
      }
    },
    {
      "cell_type": "markdown",
      "source": [
        "**00_averages**"
      ],
      "metadata": {
        "id": "zTswFP9odYwZ"
      }
    },
    {
      "cell_type": "code",
      "source": [
        "def find_average(num1, num2):\n",
        "    average = (num1 + num2) / 2\n",
        "    return average\n",
        "\n",
        "\n",
        "if __name__ == '__main__':\n",
        "    num1 = float(input('Enter first number: '))\n",
        "    num2 = float(input('Enter second number: '))\n",
        "    print(f'The average is: {find_average(num1, num2)}')"
      ],
      "metadata": {
        "colab": {
          "base_uri": "https://localhost:8080/"
        },
        "id": "Zmho5TRMdbeP",
        "outputId": "be021669-3dd8-4ce8-aec2-b693611c0497"
      },
      "execution_count": null,
      "outputs": [
        {
          "output_type": "stream",
          "name": "stdout",
          "text": [
            "Enter first number: 3\n",
            "Enter second number: 4\n",
            "The average is: 3.5\n"
          ]
        }
      ]
    },
    {
      "cell_type": "markdown",
      "source": [
        "**1_chaotic_counting**"
      ],
      "metadata": {
        "id": "-Eyeo7TNdrB7"
      }
    },
    {
      "cell_type": "code",
      "source": [
        "import random\n",
        "\n",
        "DONE_LIKELIHOOD = 0.3\n",
        "\n",
        "def done():\n",
        "    return random.random() < DONE_LIKELIHOOD\n",
        "\n",
        "def chaotic_counting():\n",
        "    for i in range(1, 11):\n",
        "        if done():\n",
        "            return\n",
        "        print(i, end=\" \")\n",
        "\n",
        "def main():\n",
        "    print(\"I'm going to count until 10 or until I feel like stopping, whichever comes first.\")\n",
        "    chaotic_counting()\n",
        "    print(\"I'm done.\")\n",
        "\n",
        "if __name__ == \"__main__\":\n",
        "    main()\n"
      ],
      "metadata": {
        "colab": {
          "base_uri": "https://localhost:8080/"
        },
        "id": "JFetVNPNdsDt",
        "outputId": "4a757f4e-705d-44fc-fc52-0b34bd89e63a"
      },
      "execution_count": null,
      "outputs": [
        {
          "output_type": "stream",
          "name": "stdout",
          "text": [
            "I'm going to count until 10 or until I feel like stopping, whichever comes first.\n",
            "1 2 3 4 5 6 I'm done.\n"
          ]
        }
      ]
    },
    {
      "cell_type": "markdown",
      "source": [
        "**02_count_even**"
      ],
      "metadata": {
        "id": "jQ5Zm8Ytd4v-"
      }
    },
    {
      "cell_type": "code",
      "source": [
        "def count_even(lst):\n",
        "    # Count the even numbers in the list\n",
        "    even_count = sum(1 for number in lst if number % 2 == 0)\n",
        "    print(f\"Number of even numbers: {even_count}\")\n",
        "\n",
        "def main():\n",
        "    lst = []\n",
        "    while True:\n",
        "        user_input = input(\"Enter an integer or press enter to stop: \")\n",
        "        if user_input == \"\":\n",
        "            break\n",
        "        elif user_input.isdigit() or (user_input.startswith('-') and user_input[1:].isdigit()):\n",
        "            num = int(user_input)\n",
        "            lst.append(num)\n",
        "        else:\n",
        "            print(\"Please enter a valid integer.\")\n",
        "\n",
        "    count_even(lst)\n",
        "\n",
        "if __name__ == \"__main__\":\n",
        "    main()\n"
      ],
      "metadata": {
        "colab": {
          "base_uri": "https://localhost:8080/"
        },
        "id": "BWC5WGLSd9EL",
        "outputId": "e60d0d51-5fd1-4c68-e9af-c189230fea43"
      },
      "execution_count": null,
      "outputs": [
        {
          "output_type": "stream",
          "name": "stdout",
          "text": [
            "Enter an integer or press enter to stop: 2\n",
            "Enter an integer or press enter to stop: 3\n",
            "Enter an integer or press enter to stop: 4\n",
            "Enter an integer or press enter to stop: \n",
            "Number of even numbers: 2\n"
          ]
        }
      ]
    },
    {
      "cell_type": "markdown",
      "source": [
        "**04_double**"
      ],
      "metadata": {
        "id": "sFtVEQJLeayP"
      }
    },
    {
      "cell_type": "code",
      "source": [
        "def double(num):\n",
        "    # Multiply the number by 2 and return the result\n",
        "    return num * 2\n",
        "\n",
        "def main():\n",
        "    num = float(input(\"Enter a number: \"))\n",
        "    result = double(num)\n",
        "    print(f\"Double that is {result}\")\n",
        "\n",
        "if __name__ == \"__main__\":\n",
        "    main()\n"
      ],
      "metadata": {
        "colab": {
          "base_uri": "https://localhost:8080/"
        },
        "id": "GW578NBcebyZ",
        "outputId": "e5ea5067-b448-4c21-eafe-007cb437191c"
      },
      "execution_count": null,
      "outputs": [
        {
          "output_type": "stream",
          "name": "stdout",
          "text": [
            "Enter a number: 3\n",
            "Double that is 6.0\n"
          ]
        }
      ]
    },
    {
      "cell_type": "markdown",
      "source": [
        "**05_get_name**"
      ],
      "metadata": {
        "id": "H7yqVeXItLkY"
      }
    },
    {
      "cell_type": "code",
      "source": [
        "def get_name():\n",
        "    # Return the name as a string\n",
        "    return \"Sophia\"\n",
        "\n",
        "def main():\n",
        "    name = get_name()\n",
        "    print(f\"Howdy {name} ! 🤠\")\n",
        "\n",
        "if __name__ == \"__main__\":\n",
        "    main()\n"
      ],
      "metadata": {
        "colab": {
          "base_uri": "https://localhost:8080/"
        },
        "id": "qzpiI6aBtNlN",
        "outputId": "24404a11-fb78-435c-c784-e5fbc3cf0bb6"
      },
      "execution_count": null,
      "outputs": [
        {
          "output_type": "stream",
          "name": "stdout",
          "text": [
            "Howdy Sophia ! 🤠\n"
          ]
        }
      ]
    },
    {
      "cell_type": "markdown",
      "source": [
        "**06_is_odd**"
      ],
      "metadata": {
        "id": "itIEepGYtiUP"
      }
    },
    {
      "cell_type": "code",
      "source": [
        "def odd_even():\n",
        "    value = int(input(\"Enter a number: \"))\n",
        "    if value % 2 == 0:\n",
        "        print(f\"{value} is even\")\n",
        "    else:\n",
        "        print(f\"{value} is odd\")\n",
        "\n",
        "def main():\n",
        "    odd_even()\n",
        "\n",
        "if __name__ == '__main__':\n",
        "    main()\n"
      ],
      "metadata": {
        "colab": {
          "base_uri": "https://localhost:8080/"
        },
        "id": "2Ee-C2OVtjre",
        "outputId": "6beefe94-e406-46a3-fcdc-34ae58fcee05"
      },
      "execution_count": null,
      "outputs": [
        {
          "output_type": "stream",
          "name": "stdout",
          "text": [
            "Enter a number: 3\n",
            "3 is odd\n"
          ]
        }
      ]
    },
    {
      "cell_type": "markdown",
      "source": [
        "**07_print_divisor**"
      ],
      "metadata": {
        "id": "37U54SzvvX0z"
      }
    },
    {
      "cell_type": "code",
      "source": [
        "def print_divisors(num):\n",
        "    print(f\"Here are the divisors of {num}\")\n",
        "    for i in range(1, num + 1):\n",
        "        if num % i == 0:\n",
        "            print(i, end=\" \")\n",
        "    print()\n",
        "\n",
        "def main():\n",
        "    num = int(input(\"Enter a number: \"))\n",
        "    print_divisors(num)\n",
        "\n",
        "if __name__ == '__main__':\n",
        "    main()\n"
      ],
      "metadata": {
        "id": "2_yC2hfcvY6k",
        "colab": {
          "base_uri": "https://localhost:8080/"
        },
        "outputId": "5d365908-b684-4c67-bb4c-c0a87324d115"
      },
      "execution_count": 22,
      "outputs": [
        {
          "output_type": "stream",
          "name": "stdout",
          "text": [
            "Enter a number: 4\n",
            "Here are the divisors of 4\n",
            "1 2 4 \n"
          ]
        }
      ]
    },
    {
      "cell_type": "markdown",
      "source": [
        "**08_print_multiple**"
      ],
      "metadata": {
        "id": "cunTqJlkvhaC"
      }
    },
    {
      "cell_type": "code",
      "source": [
        "def print_multiple(message, repeats):\n",
        "  if (message == \"\"):\n",
        "    return\n",
        "  print(message * repeats)\n",
        "def main():\n",
        "    message = input(\"Enter a message:\")\n",
        "    repeats = int(input(\"Enter a number: \"))\n",
        "    print_multiple(message , repeats)\n",
        "if __name__ == '__main__':\n",
        "    main()"
      ],
      "metadata": {
        "colab": {
          "base_uri": "https://localhost:8080/"
        },
        "id": "FIdPNYmVvi2F",
        "outputId": "ab63ac8c-dde2-4ce5-bdf7-089a28acb9a9"
      },
      "execution_count": null,
      "outputs": [
        {
          "output_type": "stream",
          "name": "stdout",
          "text": [
            "Enter a message: /nwetw\n",
            "Enter a number:.n 3\n",
            "wetwwetwwetw\n"
          ]
        }
      ]
    },
    {
      "cell_type": "markdown",
      "source": [
        "**09_sentence_generator**"
      ],
      "metadata": {
        "id": "tGS8iRlywV_5"
      }
    },
    {
      "cell_type": "code",
      "source": [
        "def make_sentence(word, part_of_speech):\n",
        "    if part_of_speech == 0:\n",
        "        print(f\"I am excited to add this {word} to my vast collection of them!\")\n",
        "    elif part_of_speech == 1:\n",
        "        print(f\"It's so nice outside today it makes me want to {word}!\")\n",
        "    elif part_of_speech == 2:\n",
        "        print(f\"Looking out my window, the sky is big and {word}!\")\n",
        "    else:\n",
        "        print(\"Invalid input! Please enter 0 for noun, 1 for verb, or 2 for adjective.\")\n",
        "\n",
        "def main():\n",
        "    word = input(\"Please type a noun, verb, or adjective: \")\n",
        "    part_of_speech = int(input(\"Is this a noun, verb, or adjective? Type 0 for noun, 1 for verb, 2 for adjective: \"))\n",
        "    make_sentence(word, part_of_speech)\n",
        "\n",
        "if __name__ == '__main__':\n",
        "    main()\n"
      ],
      "metadata": {
        "colab": {
          "base_uri": "https://localhost:8080/"
        },
        "id": "i6EcA4uxwZp7",
        "outputId": "74347793-ef07-4d3e-f735-dcca648f8a84"
      },
      "execution_count": null,
      "outputs": [
        {
          "output_type": "stream",
          "name": "stdout",
          "text": [
            "Please type a noun, verb, or adjective: noun\n",
            "Is this a noun, verb, or adjective? Type 0 for noun, 1 for verb, 2 for adjective: 0\n",
            "I am excited to add this noun to my vast collection of them!\n"
          ]
        }
      ]
    },
    {
      "cell_type": "markdown",
      "source": [
        "**10_print_ones_digit**"
      ],
      "metadata": {
        "id": "JQHS1qhOwrBV"
      }
    },
    {
      "cell_type": "code",
      "source": [
        "def print_ones_digit(num):\n",
        "  print(\"The ones digit is\", num % 10)\n",
        "\n",
        "def main():\n",
        "  num = int(input(\"Enter a number: \"))\n",
        "  print_ones_digit(num)\n",
        "if __name__ == '__main__':\n",
        "    main()\n"
      ],
      "metadata": {
        "colab": {
          "base_uri": "https://localhost:8080/"
        },
        "id": "wxA3nncCwtCX",
        "outputId": "615138d5-4bc5-47a8-a072-3ff5f6ac2ee4"
      },
      "execution_count": null,
      "outputs": [
        {
          "output_type": "stream",
          "name": "stdout",
          "text": [
            "Enter a number: 3\n",
            "The ones digit is 3\n"
          ]
        }
      ]
    },
    {
      "cell_type": "markdown",
      "source": [
        "# **07_information_flow**"
      ],
      "metadata": {
        "id": "z3F3jCtVxJQz"
      }
    },
    {
      "cell_type": "markdown",
      "source": [
        "**00_choosing_returns**"
      ],
      "metadata": {
        "id": "rSPUGqpqxK7U"
      }
    },
    {
      "cell_type": "code",
      "source": [
        "ADULT_AGE : int = 18\n",
        "\n",
        "def is_adult(age: int):\n",
        "    if age >= ADULT_AGE:\n",
        "        return True\n",
        "\n",
        "    return False\n",
        "\n",
        "\n",
        "def main():\n",
        "    age : str = int(input(\"How old is this person?: \"))\n",
        "    print(is_adult(age))\n",
        "\n",
        "\n",
        "if __name__ == \"__main__\":\n",
        "    main()"
      ],
      "metadata": {
        "colab": {
          "base_uri": "https://localhost:8080/"
        },
        "id": "e4EhVC8UxPsE",
        "outputId": "dab86be9-4d8e-4189-c38b-df733c05c0c0"
      },
      "execution_count": null,
      "outputs": [
        {
          "output_type": "stream",
          "name": "stdout",
          "text": [
            "How old is this person?: 18\n",
            "True\n"
          ]
        }
      ]
    },
    {
      "cell_type": "markdown",
      "source": [
        "**01_greetings**"
      ],
      "metadata": {
        "id": "jlE9PAUbxg_d"
      }
    },
    {
      "cell_type": "code",
      "source": [
        "def main():\n",
        "    name : str = input(\"What's your name? \")\n",
        "    print(greet(name))\n",
        "\n",
        "# There is no need to edit code beyond this point\n",
        "\n",
        "def greet(name):\n",
        "    return \"Greetings \" + name + \"!\"\n",
        "\n",
        "if __name__ == '__main__':\n",
        "    main()\n"
      ],
      "metadata": {
        "colab": {
          "base_uri": "https://localhost:8080/"
        },
        "id": "j06PsOZVW7Ax",
        "outputId": "322e5e64-cefd-4da3-db52-19b5af69fc7d"
      },
      "execution_count": null,
      "outputs": [
        {
          "output_type": "stream",
          "name": "stdout",
          "text": [
            "What's your name? hjgggg\n",
            "Greetings hjgggg!\n"
          ]
        }
      ]
    },
    {
      "cell_type": "markdown",
      "source": [
        "**03_in_stock**"
      ],
      "metadata": {
        "id": "Lgo6uN9iXYKZ"
      }
    },
    {
      "cell_type": "code",
      "source": [
        "def main():\n",
        "    fruits:str=input(\"Enter fruit name\")\n",
        "    stock=num_in_stock(fruits)\n",
        "    if stock==0:\n",
        "        print(\"This fruit is not in stock.\")\n",
        "    else:\n",
        "        print(\"This fruit is in stock. how many?\")\n",
        "        print(stock)\n",
        "\n",
        "def num_in_stock(fruits:str):\n",
        "  if fruits==\"apple\":\n",
        "    return 2\n",
        "  elif fruits==\"pear\":\n",
        "    return 1000\n",
        "  elif fruits==\"banana\":\n",
        "    return 5\n",
        "  else:\n",
        "    return 0\n",
        "\n",
        "\n",
        "if __name__ == '__main__':\n",
        "    main()"
      ],
      "metadata": {
        "colab": {
          "base_uri": "https://localhost:8080/"
        },
        "id": "ktTLkW39XZcK",
        "outputId": "2c833d87-0041-4c2d-c2a9-f6dd3507610c"
      },
      "execution_count": null,
      "outputs": [
        {
          "output_type": "stream",
          "name": "stdout",
          "text": [
            "Enter fruit nameapple\n",
            "This fruit is in stock. how many?\n",
            "2\n"
          ]
        }
      ]
    },
    {
      "cell_type": "markdown",
      "source": [
        "**04_multiple_returns**"
      ],
      "metadata": {
        "id": "Dp66YuMOY7B_"
      }
    },
    {
      "cell_type": "code",
      "source": [
        "def get_user_data():\n",
        "    first_name = input(\"What is your first name?: \")\n",
        "    last_name = input(\"What is your last name?: \")\n",
        "    email = input(\"What is your email address?: \")\n",
        "\n",
        "    return first_name, last_name, email  # Returning as a tuple\n",
        "\n",
        "# Example of calling the function and displaying the result\n",
        "user_data = get_user_data()\n",
        "print(\"Received the following user data:\", user_data)\n"
      ],
      "metadata": {
        "colab": {
          "base_uri": "https://localhost:8080/"
        },
        "id": "i1CJM1zwY8Vd",
        "outputId": "42da1866-a07a-415e-94a3-9c878fe27955"
      },
      "execution_count": null,
      "outputs": [
        {
          "output_type": "stream",
          "name": "stdout",
          "text": [
            "What is your first name?: aiman\n",
            "What is your last name?: aeshad\n",
            "What is your email address?: ansdouas@mgafhhea\n",
            "Received the following user data: ('aiman', 'aeshad', 'ansdouas@mgafhhea')\n"
          ]
        }
      ]
    },
    {
      "cell_type": "markdown",
      "source": [
        "**05_subtract_7**"
      ],
      "metadata": {
        "id": "yV3bWV5JZeUU"
      }
    },
    {
      "cell_type": "code",
      "source": [
        "def subtract_seven(num):\n",
        "    return num - 7  # Subtracting 7 from num\n",
        "\n",
        "def main():\n",
        "    number = int(input(\"Enter a number: \"))  # Taking user input\n",
        "    result = subtract_seven(number)  # Calling the helper function\n",
        "    print(\"Result after subtracting 7:\", result)  # Displaying the result\n",
        "if __name__ == '__main__':\n",
        "    main()"
      ],
      "metadata": {
        "colab": {
          "base_uri": "https://localhost:8080/"
        },
        "id": "SE4DK2VWZfjp",
        "outputId": "45f44676-b1b7-40eb-83ab-e02e15f0a295"
      },
      "execution_count": null,
      "outputs": [
        {
          "output_type": "stream",
          "name": "stdout",
          "text": [
            "Enter a number: 2\n",
            "Result after subtracting 7: -5\n"
          ]
        }
      ]
    },
    {
      "cell_type": "markdown",
      "source": [
        "# **ONLINE_CLASS_PROJECTS**\n",
        "\n",
        "---\n",
        "\n",
        "\n"
      ],
      "metadata": {
        "id": "uQUvapOva7Fm"
      }
    },
    {
      "cell_type": "markdown",
      "source": [
        "# ***01_basics***"
      ],
      "metadata": {
        "id": "Xg34FUj_btvL"
      }
    },
    {
      "cell_type": "markdown",
      "source": [
        "**00_joke_bot**"
      ],
      "metadata": {
        "id": "_UN4cmCqbzZJ"
      }
    },
    {
      "cell_type": "code",
      "source": [
        "PROMPT: str = \"What do you want? \"\n",
        "JOKE: str = \"Here is a joke for you! Sophia is heading out to the grocery store. A programmer tells her: get a liter of milk, and if they have eggs, get 12. Sophia returns with 13 liters of milk. The programmer asks why and Sophia replies: 'because they had eggs'\"\n",
        "SORRY: str = \"Sorry I only tell jokes.\"\n",
        "\n",
        "def main():\n",
        "    user_input = input(PROMPT).strip().lower()  # Get user input\n",
        "\n",
        "    if \"joke\" in user_input:\n",
        "        print(JOKE)\n",
        "    else:\n",
        "        print(SORRY)\n",
        "\n",
        "if __name__ == \"__main__\":\n",
        "    main()\n"
      ],
      "metadata": {
        "id": "9dc7sKZ3b0uq",
        "colab": {
          "base_uri": "https://localhost:8080/"
        },
        "outputId": "eeed2c1d-9ed0-4705-f718-8a184f4c4569"
      },
      "execution_count": 24,
      "outputs": [
        {
          "output_type": "stream",
          "name": "stdout",
          "text": [
            "What do you want? joke\n",
            "Here is a joke for you! Sophia is heading out to the grocery store. A programmer tells her: get a liter of milk, and if they have eggs, get 12. Sophia returns with 13 liters of milk. The programmer asks why and Sophia replies: 'because they had eggs'\n"
          ]
        }
      ]
    },
    {
      "cell_type": "markdown",
      "source": [
        "**01_double_it**"
      ],
      "metadata": {
        "id": "lgOSC4cbcCVm"
      }
    },
    {
      "cell_type": "code",
      "source": [
        "def main():\n",
        "   curr_value=0\n",
        "   while curr_value < 100:\n",
        "      curr_value=int(input(\"Enter a number: \"))\n",
        "      print(curr_value*2)\n",
        "\n",
        "\n",
        "\n",
        "if __name__ == '__main__':\n",
        "    main()"
      ],
      "metadata": {
        "colab": {
          "base_uri": "https://localhost:8080/"
        },
        "id": "ZltrDIXRcDiT",
        "outputId": "a1ac0baf-8ff4-48f5-e55d-b70a8e6cb518"
      },
      "execution_count": null,
      "outputs": [
        {
          "output_type": "stream",
          "name": "stdout",
          "text": [
            "Enter a number: 2\n",
            "4\n",
            "Enter a number: 10\n",
            "20\n",
            "Enter a number: 100\n",
            "200\n"
          ]
        }
      ]
    },
    {
      "cell_type": "markdown",
      "source": [
        "**02_liftoff**"
      ],
      "metadata": {
        "id": "1cFI3AXIctSf"
      }
    },
    {
      "cell_type": "code",
      "source": [
        "for i in range(10, 0, -1):  # Starts from 10, goes down to 1\n",
        "    print(i, end=\" \")  # Prints numbers on the same line with space\n",
        "print(\"Liftoff!\")  # Prints Liftoff! after the countdown\n"
      ],
      "metadata": {
        "colab": {
          "base_uri": "https://localhost:8080/"
        },
        "id": "7ozzhDF-cuQk",
        "outputId": "51230450-db38-491d-d04d-401da52fa345"
      },
      "execution_count": null,
      "outputs": [
        {
          "output_type": "stream",
          "name": "stdout",
          "text": [
            "10 9 8 7 6 5 4 3 2 1 Liftoff!\n"
          ]
        }
      ]
    },
    {
      "cell_type": "markdown",
      "source": [
        "**03_guess_my_number**"
      ],
      "metadata": {
        "id": "gyGy6QZCc3hA"
      }
    },
    {
      "cell_type": "code",
      "source": [
        "import random\n",
        "\n",
        "def main():\n",
        "    # Generate the secret number at random!\n",
        "    secret_number: int = random.randint(1, 99)\n",
        "\n",
        "    print(\"I am thinking of a number between 1 and 99...\")\n",
        "\n",
        "    # Get user's guess\n",
        "    guess = int(input(\"Enter a guess: \"))\n",
        "    # True if guess is not equal to secret number\n",
        "    while guess != secret_number:\n",
        "        if guess < secret_number:  # If-statement is True if guess is less than secret number\n",
        "            print(\"Your guess is too low\")\n",
        "        else:\n",
        "            print(\"Your guess is too high\")\n",
        "\n",
        "        print() # Print an empty line to tidy up the console for new guesses\n",
        "        guess: int = int(input(\"Enter a new guess: \"))  # Get a new guess from the user\n",
        "\n",
        "    print(\"Congrats! The number was: \" + str(secret_number))\n",
        "\n",
        "if __name__ == '__main__':\n",
        "    main()\n"
      ],
      "metadata": {
        "id": "al9j0AHLc6Br",
        "colab": {
          "base_uri": "https://localhost:8080/"
        },
        "outputId": "3fbdf4b7-cefa-408d-e76b-79e44f2f4dc1"
      },
      "execution_count": 25,
      "outputs": [
        {
          "output_type": "stream",
          "name": "stdout",
          "text": [
            "I am thinking of a number between 1 and 99...\n",
            "Enter a guess: 11\n",
            "Your guess is too low\n",
            "\n",
            "Enter a new guess: 30\n",
            "Your guess is too high\n",
            "\n",
            "Enter a new guess: 15\n",
            "Your guess is too low\n",
            "\n",
            "Enter a new guess: 20\n",
            "Your guess is too low\n",
            "\n",
            "Enter a new guess: 21\n",
            "Your guess is too low\n",
            "\n",
            "Enter a new guess: 25\n",
            "Your guess is too low\n",
            "\n",
            "Enter a new guess: 26\n",
            "Your guess is too low\n",
            "\n",
            "Enter a new guess: 27\n",
            "Your guess is too low\n",
            "\n",
            "Enter a new guess: 28\n",
            "Your guess is too low\n",
            "\n",
            "Enter a new guess: 29\n",
            "Congrats! The number was: 29\n"
          ]
        }
      ]
    },
    {
      "cell_type": "markdown",
      "source": [
        "**04_random_numbers**"
      ],
      "metadata": {
        "id": "tbgfx99SdEIh"
      }
    },
    {
      "cell_type": "code",
      "source": [
        "import random\n",
        "def main():\n",
        "  for i in range(10):\n",
        "    print(random.randint(1, 100), end=\" \")  # Generate and print a random number\n",
        "\n",
        "  print()  # Print a new line at the end\n",
        "if __name__ == '__main__':\n",
        "    main()\n"
      ],
      "metadata": {
        "colab": {
          "base_uri": "https://localhost:8080/"
        },
        "id": "dk5H3H1_dH0d",
        "outputId": "9d108ad4-d581-4509-8b25-b329ea50053e"
      },
      "execution_count": null,
      "outputs": [
        {
          "output_type": "stream",
          "name": "stdout",
          "text": [
            "75 59 83 89 6 73 72 81 100 20 \n"
          ]
        }
      ]
    },
    {
      "cell_type": "markdown",
      "source": [
        "# **02_intermediate**"
      ],
      "metadata": {
        "id": "CwY1EehWdXfW"
      }
    },
    {
      "cell_type": "markdown",
      "source": [
        "Control Flow for **Console**"
      ],
      "metadata": {
        "id": "s7kNJzmodlS2"
      }
    },
    {
      "cell_type": "code",
      "source": [
        "import random\n",
        "\n",
        "# Number of rounds\n",
        "rounds = 5\n",
        "score = 0  # Player's score\n",
        "\n",
        "print(\"Welcome to the High-Low Game!\")\n",
        "\n",
        "for _ in range(rounds):\n",
        "    player_number = random.randint(1, 100)\n",
        "    computer_number = random.randint(1, 100)\n",
        "\n",
        "    print(f\"\\nYour number: {player_number}\")\n",
        "    guess = input(\"Do you think your number is (H)igher or (L)ower than the computer's? \").strip().upper()\n",
        "\n",
        "    # Determine the correct answer\n",
        "    correct_answer = \"H\" if player_number > computer_number else \"L\"\n",
        "\n",
        "    # Reveal computer's number\n",
        "    print(f\"Computer's number: {computer_number}\")\n",
        "\n",
        "    # Check if the player guessed correctly\n",
        "    if guess == correct_answer:\n",
        "        print(\"Correct! You get a point! 🎉\")\n",
        "        score += 1\n",
        "    else:\n",
        "        print(\"Wrong guess! No points this round. 😢\")\n",
        "\n",
        "print(f\"\\nGame over! Your final score is: {score}/{rounds}\")\n"
      ],
      "metadata": {
        "id": "Ie9YJ-UDeCVD",
        "colab": {
          "base_uri": "https://localhost:8080/"
        },
        "outputId": "59bf0324-6be3-4503-9f2f-07a00ff3e5b1"
      },
      "execution_count": 26,
      "outputs": [
        {
          "output_type": "stream",
          "name": "stdout",
          "text": [
            "Welcome to the High-Low Game!\n",
            "\n",
            "Your number: 5\n",
            "Do you think your number is (H)igher or (L)ower than the computer's? H\n",
            "Computer's number: 74\n",
            "Wrong guess! No points this round. 😢\n",
            "\n",
            "Your number: 82\n",
            "Do you think your number is (H)igher or (L)ower than the computer's? H\n",
            "Computer's number: 94\n",
            "Wrong guess! No points this round. 😢\n",
            "\n",
            "Your number: 40\n",
            "Do you think your number is (H)igher or (L)ower than the computer's? H\n",
            "Computer's number: 31\n",
            "Correct! You get a point! 🎉\n",
            "\n",
            "Your number: 53\n",
            "Do you think your number is (H)igher or (L)ower than the computer's? H\n",
            "Computer's number: 37\n",
            "Correct! You get a point! 🎉\n",
            "\n",
            "Your number: 75\n",
            "Do you think your number is (H)igher or (L)ower than the computer's? H\n",
            "Computer's number: 88\n",
            "Wrong guess! No points this round. 😢\n",
            "\n",
            "Game over! Your final score is: 2/5\n"
          ]
        }
      ]
    },
    {
      "cell_type": "markdown",
      "source": [
        "***Intro_to_Python***\n"
      ],
      "metadata": {
        "id": "iyy-fcc7ef1Q"
      }
    },
    {
      "cell_type": "code",
      "source": [
        "def main():\n",
        "    # Mars gravity factor\n",
        "    MARS_GRAVITY = 0.378\n",
        "    Mercury=0.376\n",
        "\n",
        "    Venus= 0.889\n",
        "\n",
        "    Mars= 0.378\n",
        "\n",
        "    Jupiter= 2.360\n",
        "\n",
        "    Saturn= 1.081\n",
        "\n",
        "    Uranus= 0.815\n",
        "\n",
        "    Neptune= 1.140\n",
        "\n",
        "    # Get the user's weight on Earth\n",
        "    earth_weight = float(input(\"Enter your weight on Earth (kg) \"))\n",
        "    planet_name=input(\"Enter the name of the planet: \")\n",
        "\n",
        "    if planet_name == \"Mercury\":\n",
        "        gravity_constant =Mercury\n",
        "    elif planet_name == \"Venus\":\n",
        "        gravity_constant = Venus\n",
        "    elif planet_name == \"Mars\":\n",
        "        gravity_constant =  Mars\n",
        "    elif planet_name == \"Jupiter\":\n",
        "        gravity_constant = Jupiter\n",
        "    elif planet_name == \"Saturn\":\n",
        "        gravity_constant = Saturn\n",
        "    elif planet_name == \"Uranus\":\n",
        "        gravity_constant = Uranus\n",
        "    else:\n",
        "      gravity_constant = Neptune\n",
        "\n",
        "    weight = earth_weight * gravity_constant\n",
        "\n",
        "    print(f\"Your weight on Mars would be: {round(weight, 2)} kg\")\n",
        "\n",
        "\n",
        "\n",
        "if __name__ == \"__main__\":\n",
        "    main()"
      ],
      "metadata": {
        "colab": {
          "base_uri": "https://localhost:8080/"
        },
        "id": "KUN-hIdeelcM",
        "outputId": "c74a3724-288e-40d6-96e9-11acaa99d287"
      },
      "execution_count": null,
      "outputs": [
        {
          "output_type": "stream",
          "name": "stdout",
          "text": [
            "Enter your weight on Earth (kg) 70\n",
            "Enter the name of the planet: mars\n",
            "Your weight on Mars would be: 79.8 kg\n"
          ]
        }
      ]
    },
    {
      "cell_type": "markdown",
      "source": [
        "**Lists_and_Dicts**"
      ],
      "metadata": {
        "id": "d29Kxo0-hAS9"
      }
    },
    {
      "cell_type": "markdown",
      "source": [
        "**Problem #1: List Practice**"
      ],
      "metadata": {
        "id": "_uvVnvF5hgdY"
      }
    },
    {
      "cell_type": "code",
      "source": [
        "def main():\n",
        "  fruit_list=['apple', 'banana', 'orange', 'grape', 'pineapple']\n",
        "  print(fruit_list)\n",
        "  fruit_list.append('mang0')\n",
        "  print(fruit_list)\n",
        "\n",
        "if __name__ == \"__main__\":\n",
        "    main()"
      ],
      "metadata": {
        "colab": {
          "base_uri": "https://localhost:8080/"
        },
        "id": "ianSUVqRhFvn",
        "outputId": "c6788f14-1e7f-466b-f90b-fde2bc1c72e1"
      },
      "execution_count": null,
      "outputs": [
        {
          "output_type": "stream",
          "name": "stdout",
          "text": [
            "['apple', 'banana', 'orange', 'grape', 'pineapple']\n",
            "['apple', 'banana', 'orange', 'grape', 'pineapple', 'mang0']\n"
          ]
        }
      ]
    },
    {
      "cell_type": "markdown",
      "source": [
        "**Problem #2: Index Game**"
      ],
      "metadata": {
        "id": "FbEqkEAWhmgq"
      }
    },
    {
      "cell_type": "code",
      "source": [
        "# Initialize a List with at least 5 different elements\n",
        "my_list = [25, \"apple\", 3.14, \"banana\", 42]\n",
        "\n",
        "# Function to access elements by index\n",
        "def access_element(lst, index):\n",
        "    if index < 0 or index >= len(lst):\n",
        "        return \"Index out of range.\"\n",
        "    return lst[index]\n",
        "\n",
        "# Function to modify an element at a specified index\n",
        "def modify_element(lst, index, new_value):\n",
        "    if index < 0 or index >= len(lst):\n",
        "        return \"Index out of range.\"\n",
        "    lst[index] = new_value\n",
        "    return lst\n",
        "\n",
        "# Function to slice the list\n",
        "def slice_list(lst, start_index, end_index):\n",
        "    if start_index < 0 or end_index > len(lst) or start_index > end_index:\n",
        "        return \"Invalid indices.\"\n",
        "    return lst[start_index:end_index]\n",
        "\n",
        "# Game Interaction\n",
        "def list_game():\n",
        "    print(\"Welcome to the List Manipulation Game!\")\n",
        "    print(\"Current list:\", my_list)\n",
        "\n",
        "    while True:\n",
        "        print(\"\\nSelect an operation:\")\n",
        "        print(\"1: Access an element\")\n",
        "        print(\"2: Modify an element\")\n",
        "        print(\"3: Slice the list\")\n",
        "        print(\"4: Exit\")\n",
        "\n",
        "        choice = input(\"Enter the number of the operation you'd like to perform: \").strip()\n",
        "\n",
        "        if choice == \"1\":\n",
        "            index = int(input(\"Enter the index of the element you want to access: \"))\n",
        "            result = access_element(my_list, index)\n",
        "            print(\"Accessed element:\", result)\n",
        "\n",
        "        elif choice == \"2\":\n",
        "            index = int(input(\"Enter the index of the element you want to modify: \"))\n",
        "            new_value = input(\"Enter the new value: \")\n",
        "            result = modify_element(my_list, index, new_value)\n",
        "            print(\"Updated list:\", result)\n",
        "\n",
        "        elif choice == \"3\":\n",
        "            start_index = int(input(\"Enter the start index for slicing: \"))\n",
        "            end_index = int(input(\"Enter the end index for slicing: \"))\n",
        "            result = slice_list(my_list, start_index, end_index)\n",
        "            print(\"Sliced list:\", result)\n",
        "\n",
        "        elif choice == \"4\":\n",
        "            print(\"Thank you for playing! Goodbye!\")\n",
        "            break\n",
        "\n",
        "        else:\n",
        "            print(\"Invalid choice, please try again.\")\n",
        "\n",
        "# Run the game\n",
        "list_game()\n"
      ],
      "metadata": {
        "id": "MuY8aNlvhrZw",
        "colab": {
          "base_uri": "https://localhost:8080/"
        },
        "outputId": "2d32c920-2d59-47d5-d8f5-b1466738ffdc"
      },
      "execution_count": 27,
      "outputs": [
        {
          "output_type": "stream",
          "name": "stdout",
          "text": [
            "Welcome to the List Manipulation Game!\n",
            "Current list: [25, 'apple', 3.14, 'banana', 42]\n",
            "\n",
            "Select an operation:\n",
            "1: Access an element\n",
            "2: Modify an element\n",
            "3: Slice the list\n",
            "4: Exit\n",
            "Enter the number of the operation you'd like to perform: 1\n",
            "Enter the index of the element you want to access: 2\n",
            "Accessed element: 3.14\n",
            "\n",
            "Select an operation:\n",
            "1: Access an element\n",
            "2: Modify an element\n",
            "3: Slice the list\n",
            "4: Exit\n",
            "Enter the number of the operation you'd like to perform: 2\n",
            "Enter the index of the element you want to modify: 4\n",
            "Enter the new value: 34\n",
            "Updated list: [25, 'apple', 3.14, 'banana', '34']\n",
            "\n",
            "Select an operation:\n",
            "1: Access an element\n",
            "2: Modify an element\n",
            "3: Slice the list\n",
            "4: Exit\n",
            "Enter the number of the operation you'd like to perform: 3\n",
            "Enter the start index for slicing: 2\n",
            "Enter the end index for slicing: 3\n",
            "Sliced list: [3.14]\n",
            "\n",
            "Select an operation:\n",
            "1: Access an element\n",
            "2: Modify an element\n",
            "3: Slice the list\n",
            "4: Exit\n",
            "Enter the number of the operation you'd like to perform: 4\n",
            "Thank you for playing! Goodbye!\n"
          ]
        }
      ]
    },
    {
      "cell_type": "markdown",
      "source": [
        "# **projects_to_be_submitted_by_students**\n",
        "\n",
        "---\n",
        "\n"
      ],
      "metadata": {
        "id": "VIDgVyDniwE_"
      }
    },
    {
      "cell_type": "markdown",
      "source": [
        "\n",
        "**Mad libs Python Project**"
      ],
      "metadata": {
        "id": "WHfv-2-giy3B"
      }
    },
    {
      "cell_type": "code",
      "source": [
        "name:str=\"aiman\"\n",
        "print(f\"hey this is {name}\")"
      ],
      "metadata": {
        "colab": {
          "base_uri": "https://localhost:8080/"
        },
        "id": "Kd5uEcfRi9b_",
        "outputId": "ebc1a713-2b58-4350-f989-5670937dae1a"
      },
      "execution_count": null,
      "outputs": [
        {
          "output_type": "stream",
          "name": "stdout",
          "text": [
            "hey trhis is aiman\n"
          ]
        }
      ]
    },
    {
      "cell_type": "markdown",
      "source": [
        "**Guess the Number Game Python Project (computer)**"
      ],
      "metadata": {
        "id": "pluTvzKWjO_b"
      }
    },
    {
      "cell_type": "code",
      "source": [
        "import random\n",
        "\n",
        "# Number of rounds\n",
        "rounds = 5\n",
        "score = 0  # Player's score\n",
        "\n",
        "print(\"Welcome to the High-Low Game!\")\n",
        "\n",
        "for _ in range(rounds):\n",
        "    player_number = random.randint(1, 100)\n",
        "    computer_number = random.randint(1, 100)\n",
        "\n",
        "    print(f\"\\nYour number: {player_number}\")\n",
        "    guess = input(\"Do you think your number is (H)igher or (L)ower than the computer's? \").strip().upper()\n",
        "\n",
        "    # Determine the correct answer\n",
        "    correct_answer = \"H\" if player_number > computer_number else \"L\"\n",
        "\n",
        "    # Reveal computer's number\n",
        "    print(f\"Computer's number: {computer_number}\")\n",
        "\n",
        "    # Check if the player guessed correctly\n",
        "    if guess == correct_answer:\n",
        "        print(\"Correct! You get a point! 🎉\")\n",
        "        score += 1\n",
        "    else:\n",
        "        print(\"Wrong guess! No points this round. 😢\")\n",
        "\n",
        "print(f\"\\nGame over! Your final score is: {score}/{rounds}\")\n"
      ],
      "metadata": {
        "id": "Qr3h2BbRjPlS"
      },
      "execution_count": null,
      "outputs": []
    },
    {
      "cell_type": "markdown",
      "source": [
        "**Guess the Number Game Python Project (user)**"
      ],
      "metadata": {
        "id": "xSvKiVSHjgww"
      }
    },
    {
      "cell_type": "code",
      "source": [
        "import random\n",
        "\n",
        "# Function to play the Guess the Number game\n",
        "def guess_the_number():\n",
        "    # Set the range for the number\n",
        "    lower_limit = 1\n",
        "    upper_limit = 100\n",
        "    number_to_guess = random.randint(lower_limit, upper_limit)\n",
        "    attempts = 0\n",
        "\n",
        "    print(f\"Welcome to the Guess the Number game!\")\n",
        "    print(f\"I have chosen a number between {lower_limit} and {upper_limit}. Try to guess it!\")\n",
        "\n",
        "    # Main game loop\n",
        "    while True:\n",
        "        try:\n",
        "            guess = int(input(f\"Enter your guess: \"))\n",
        "            attempts += 1\n",
        "\n",
        "            if guess < number_to_guess:\n",
        "                print(\"Too low! Try again.\")\n",
        "            elif guess > number_to_guess:\n",
        "                print(\"Too high! Try again.\")\n",
        "            else:\n",
        "                print(f\"Congratulations! You've guessed the correct number {number_to_guess} in {attempts} attempts.\")\n",
        "                break\n",
        "\n",
        "        except ValueError:\n",
        "            print(\"Please enter a valid number.\")\n",
        "\n",
        "# Start the game\n",
        "guess_the_number()\n"
      ],
      "metadata": {
        "id": "xpMlJjGnjeZA"
      },
      "execution_count": null,
      "outputs": []
    },
    {
      "cell_type": "markdown",
      "source": [
        "**Rock, paper, scissors Python Project**"
      ],
      "metadata": {
        "id": "7BldIV6Bjj_v"
      }
    },
    {
      "cell_type": "code",
      "source": [
        "import random\n",
        "\n",
        "# Function to determine the winner\n",
        "def determine_winner(user_choice, computer_choice):\n",
        "    if user_choice == computer_choice:\n",
        "        return \"It's a tie!\"\n",
        "    elif (user_choice == \"rock\" and computer_choice == \"scissors\") or \\\n",
        "         (user_choice == \"scissors\" and computer_choice == \"paper\") or \\\n",
        "         (user_choice == \"paper\" and computer_choice == \"rock\"):\n",
        "        return \"You win!\"\n",
        "    else:\n",
        "        return \"You lose!\"\n",
        "\n",
        "# Main game function\n",
        "def rock_paper_scissors():\n",
        "    print(\"Welcome to Rock, Paper, Scissors!\")\n",
        "\n",
        "    # List of choices\n",
        "    choices = [\"rock\", \"paper\", \"scissors\"]\n",
        "\n",
        "    # Ask user for their choice\n",
        "    user_choice = input(\"Enter your choice (rock, paper, or scissors): \").lower()\n",
        "\n",
        "    # Check if the user's choice is valid\n",
        "    if user_choice not in choices:\n",
        "        print(\"Invalid choice. Please choose 'rock', 'paper', or 'scissors'.\")\n",
        "        return\n",
        "\n",
        "    # Let the computer make a choice\n",
        "    computer_choice = random.choice(choices)\n",
        "    print(f\"Computer chose: {computer_choice}\")\n",
        "\n",
        "    # Determine the winner\n",
        "    result = determine_winner(user_choice, computer_choice)\n",
        "    print(result)\n",
        "\n",
        "# Run the game\n",
        "rock_paper_scissors()\n"
      ],
      "metadata": {
        "colab": {
          "base_uri": "https://localhost:8080/"
        },
        "id": "FwlIWAVqmOfM",
        "outputId": "ed1bc0c0-4736-493c-db6c-e2b41658add0"
      },
      "execution_count": null,
      "outputs": [
        {
          "output_type": "stream",
          "name": "stdout",
          "text": [
            "Welcome to Rock, Paper, Scissors!\n",
            "Enter your choice (rock, paper, or scissors): rock\n",
            "Computer chose: paper\n",
            "You lose!\n"
          ]
        }
      ]
    },
    {
      "cell_type": "markdown",
      "source": [
        "**Hangman_Game**:"
      ],
      "metadata": {
        "id": "T12kkjlOmmza"
      }
    },
    {
      "cell_type": "code",
      "source": [
        "import random\n",
        "\n",
        "# List of words to choose from\n",
        "words = [\"python\", \"hangman\", \"computer\", \"programming\", \"developer\"]\n",
        "\n",
        "# Function to choose a random word\n",
        "def choose_word():\n",
        "    return random.choice(words)\n",
        "\n",
        "# Function to display the current status of the word (with underscores for unguessed letters)\n",
        "def display_word(word, guessed_letters):\n",
        "    return \"\".join([letter if letter in guessed_letters else \"_\" for letter in word])\n",
        "\n",
        "# Function to play the game\n",
        "def hangman():\n",
        "    word = choose_word()  # Random word\n",
        "    guessed_letters = []  # List to store guessed letters\n",
        "    incorrect_guesses = 0  # Counter for incorrect guesses\n",
        "    max_incorrect_guesses = 6  # Max incorrect guesses allowed (for the hangman drawing)\n",
        "\n",
        "    print(\"Welcome to Hangman!\")\n",
        "    print(\"Try to guess the word.\")\n",
        "\n",
        "    # Main game loop\n",
        "    while incorrect_guesses < max_incorrect_guesses:\n",
        "        print(f\"\\nWord: {display_word(word, guessed_letters)}\")\n",
        "        print(f\"Guessed letters: {', '.join(guessed_letters)}\")\n",
        "        print(f\"Incorrect guesses left: {max_incorrect_guesses - incorrect_guesses}\")\n",
        "\n",
        "        guess = input(\"Enter a letter: \").lower()\n",
        "\n",
        "        # Check if the input is a single letter\n",
        "        if len(guess) != 1 or not guess.isalpha():\n",
        "            print(\"Please enter a valid single letter.\")\n",
        "            continue\n",
        "\n",
        "        # Check if the letter has been guessed already\n",
        "        if guess in guessed_letters:\n",
        "            print(\"You've already guessed that letter!\")\n",
        "            continue\n",
        "\n",
        "        # Add the guessed letter to the list\n",
        "        guessed_letters.append(guess)\n",
        "\n",
        "        # Check if the guessed letter is in the word\n",
        "        if guess not in word:\n",
        "            incorrect_guesses += 1\n",
        "            print(f\"Wrong guess! You have {max_incorrect_guesses - incorrect_guesses} incorrect guesses left.\")\n",
        "\n",
        "        # Check if the user has guessed the entire word\n",
        "        if all(letter in guessed_letters for letter in word):\n",
        "            print(f\"\\nCongratulations! You've guessed the word: {word}\")\n",
        "            break\n",
        "\n",
        "    if incorrect_guesses == max_incorrect_guesses:\n",
        "        print(f\"\\nGame Over! The word was: {word}\")\n",
        "\n",
        "# Start the game\n",
        "hangman()\n",
        "\n",
        "\n"
      ],
      "metadata": {
        "colab": {
          "base_uri": "https://localhost:8080/"
        },
        "id": "eQ70ffalmhYa",
        "outputId": "27ab7aa0-a4a0-4501-fa77-7bbc8b900be4"
      },
      "execution_count": 28,
      "outputs": [
        {
          "output_type": "stream",
          "name": "stdout",
          "text": [
            "Welcome to Hangman!\n",
            "Try to guess the word.\n",
            "\n",
            "Word: ______\n",
            "Guessed letters: \n",
            "Incorrect guesses left: 6\n",
            "Enter a letter: d\n",
            "Wrong guess! You have 5 incorrect guesses left.\n",
            "\n",
            "Word: ______\n",
            "Guessed letters: d\n",
            "Incorrect guesses left: 5\n",
            "Enter a letter: s\n",
            "Wrong guess! You have 4 incorrect guesses left.\n",
            "\n",
            "Word: ______\n",
            "Guessed letters: d, s\n",
            "Incorrect guesses left: 4\n",
            "Enter a letter: m\n",
            "Wrong guess! You have 3 incorrect guesses left.\n",
            "\n",
            "Word: ______\n",
            "Guessed letters: d, s, m\n",
            "Incorrect guesses left: 3\n",
            "Enter a letter: e\n",
            "Wrong guess! You have 2 incorrect guesses left.\n",
            "\n",
            "Word: ______\n",
            "Guessed letters: d, s, m, e\n",
            "Incorrect guesses left: 2\n",
            "Enter a letter: r\n",
            "Wrong guess! You have 1 incorrect guesses left.\n",
            "\n",
            "Word: ______\n",
            "Guessed letters: d, s, m, e, r\n",
            "Incorrect guesses left: 1\n",
            "Enter a letter: t\n",
            "\n",
            "Word: __t___\n",
            "Guessed letters: d, s, m, e, r, t\n",
            "Incorrect guesses left: 1\n",
            "Enter a letter: e\n",
            "You've already guessed that letter!\n",
            "\n",
            "Word: __t___\n",
            "Guessed letters: d, s, m, e, r, t\n",
            "Incorrect guesses left: 1\n",
            "Enter a letter: v\n",
            "Wrong guess! You have 0 incorrect guesses left.\n",
            "\n",
            "Game Over! The word was: python\n"
          ]
        }
      ]
    },
    {
      "cell_type": "markdown",
      "source": [
        "**Countdown_Timer_Python_Project**"
      ],
      "metadata": {
        "id": "bZreFxX8nBrN"
      }
    },
    {
      "cell_type": "code",
      "source": [
        "import time\n",
        "\n",
        "# Function to create a countdown timer\n",
        "def countdown_timer(seconds):\n",
        "    while seconds > 0:\n",
        "        minutes, sec = divmod(seconds, 60)  # Convert seconds into minutes and seconds\n",
        "        time_str = f\"{minutes:02}:{sec:02}\"  # Format as MM:SS\n",
        "        print(time_str, end='\\r')  # Print the countdown and overwrite the line\n",
        "        time.sleep(1)  # Wait for 1 second\n",
        "        seconds -= 1  # Decrement the seconds\n",
        "\n",
        "    print(\"00:00\")\n",
        "    print(\"Time's up!\")\n",
        "\n",
        "# Main function to start the timer\n",
        "def main():\n",
        "    try:\n",
        "        # Ask user for input\n",
        "        total_seconds = int(input(\"Enter the time in seconds for the countdown: \"))\n",
        "\n",
        "        # Call the countdown function\n",
        "        countdown_timer(total_seconds)\n",
        "\n",
        "    except ValueError:\n",
        "        print(\"Please enter a valid number.\")\n",
        "\n",
        "# Start the program\n",
        "if __name__ == \"__main__\":\n",
        "    main()\n"
      ],
      "metadata": {
        "colab": {
          "base_uri": "https://localhost:8080/"
        },
        "id": "13ad5RMLnDYt",
        "outputId": "8b88d104-967e-43a8-ec7c-a03a70b1ff0b"
      },
      "execution_count": 29,
      "outputs": [
        {
          "output_type": "stream",
          "name": "stdout",
          "text": [
            "Enter the time in seconds for the countdown: 2\n",
            "00:00\n",
            "Time's up!\n"
          ]
        }
      ]
    },
    {
      "cell_type": "markdown",
      "source": [
        "**Password_Generator_Python_Project**"
      ],
      "metadata": {
        "id": "QWkWkxxWnjfw"
      }
    },
    {
      "cell_type": "code",
      "source": [
        "import random\n",
        "import string\n",
        "def password_generator(length):\n",
        "    characters = string.ascii_letters + string.digits + string.punctuation\n",
        "\n",
        "    password = ''.join(random.choice(characters) for _ in range(length))\n",
        "    return password\n",
        "\n",
        "\n",
        "def main():\n",
        "  no_of_password=int(input(\"Enter how many password to generate: \"))\n",
        "  length=int(input(\"Enter the length of the password:\"))\n",
        "  print(f\"Generated password \\n\")\n",
        "  for i in range(no_of_password):\n",
        "    print(f\"Password {i+1}: {password_generator(length)}\")\n",
        "if __name__ == \"__main__\":\n",
        "    main()\n"
      ],
      "metadata": {
        "colab": {
          "base_uri": "https://localhost:8080/"
        },
        "id": "Pwaarxb6nsac",
        "outputId": "2fb8f139-7082-4566-9ca5-d06e6aae4774"
      },
      "execution_count": null,
      "outputs": [
        {
          "output_type": "stream",
          "name": "stdout",
          "text": [
            "Enter how many password to generate: 2\n",
            "Enter the length of the password:3\n",
            "Generated password \n",
            "\n",
            "Password 1: Qo!\n",
            "Password 2: L5$\n"
          ]
        }
      ]
    }
  ]
}